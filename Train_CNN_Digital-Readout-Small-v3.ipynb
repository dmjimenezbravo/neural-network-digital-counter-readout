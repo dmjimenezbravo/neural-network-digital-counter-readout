{
 "cells": [
  {
   "cell_type": "markdown",
   "metadata": {},
   "source": [
    "# CNN Training\n",
    "\n",
    "Target of this code is to train a CNN network to classify images of a digital readout to the digits 0 to 9. Additionally a category \"NaN\" is introduced, to mark images that are not amibiguous.\n",
    "\n",
    "### Preparing the training\n",
    "* First all libraries are loaded\n",
    "    * It is assumed, that they are installed during the Python setup\n",
    "* matplotlib is set to print the output inline in the jupyter notebook"
   ]
  },
  {
   "cell_type": "code",
   "execution_count": 1,
   "metadata": {
    "scrolled": true,
    "pycharm": {
     "is_executing": false
    }
   },
   "outputs": [],
   "source": [
    "########### Basic Parameters for Running: ################################\n",
    "    \n",
    "Version = \"7.2.1-Small-v3\"                      # Used for tflite Filename\n",
    "Testing_Percentage = 0.2                # 0.0 = Use all Images for Training\n",
    "Training_Percentage = 0.2              # 0.0 = Use all Images for Training\n",
    "Epoch_Anz = 200\n",
    "\n",
    "##########################################################################\n",
    "\n",
    "\n",
    "import tensorflow as tf\n",
    "import matplotlib.pyplot as plt\n",
    "import glob\n",
    "import numpy as np\n",
    "from sklearn.utils import shuffle\n",
    "from tensorflow.python import keras\n",
    "from tensorflow.python.keras import Sequential\n",
    "from tensorflow.python.keras.layers import Dense, InputLayer, Conv2D, MaxPool2D, Flatten, BatchNormalization\n",
    "from tensorflow.keras.preprocessing.image import ImageDataGenerator\n",
    "from sklearn.model_selection import train_test_split\n",
    "from sklearn.metrics import confusion_matrix, accuracy_score, f1_score, auc, cohen_kappa_score, classification_report\n",
    "from tensorflow.keras.callbacks import History \n",
    "from tensorflow.keras.utils import to_categorical\n",
    "from PIL import Image \n",
    "\n",
    "loss_ges = np.array([])\n",
    "val_loss_ges = np.array([])\n",
    "\n",
    "%matplotlib inline\n",
    "np.set_printoptions(precision=4)\n",
    "np.set_printoptions(suppress=True)"
   ]
  },
  {
   "cell_type": "markdown",
   "source": [
    "#### Importing useful functions\n",
    "Useful functions to use in the notebook:\n",
    "* plot_confusion_matrix: given a sklearn confusion matrix (cm), make a nice plot."
   ],
   "metadata": {
    "collapsed": false,
    "pycharm": {
     "name": "#%% md\n"
    }
   }
  },
  {
   "cell_type": "code",
   "execution_count": 2,
   "outputs": [],
   "source": [
    "def plot_confusion_matrix(cm,\n",
    "                          target_names,\n",
    "                          title='Confusion matrix',\n",
    "                          cmap=None,\n",
    "                          normalize=True):\n",
    "    \"\"\"\n",
    "    given a sklearn confusion matrix (cm), make a nice plot\n",
    "\n",
    "    Arguments\n",
    "    ---------\n",
    "    cm:           confusion matrix from sklearn.metrics.confusion_matrix\n",
    "\n",
    "    target_names: given classification classes such as [0, 1, 2]\n",
    "                  the class names, for example: ['high', 'medium', 'low']\n",
    "\n",
    "    title:        the text to display at the top of the matrix\n",
    "\n",
    "    cmap:         the gradient of the values displayed from matplotlib.pyplot.cm\n",
    "                  see http://matplotlib.org/examples/color/colormaps_reference.html\n",
    "                  plt.get_cmap('jet') or plt.cm.Blues\n",
    "\n",
    "    normalize:    If False, plot the raw numbers\n",
    "                  If True, plot the proportions\n",
    "\n",
    "    Usage\n",
    "    -----\n",
    "    plot_confusion_matrix(cm           = cm,                  # confusion matrix created by\n",
    "                                                              # sklearn.metrics.confusion_matrix\n",
    "                          normalize    = True,                # show proportions\n",
    "                          target_names = y_labels_vals,       # list of names of the classes\n",
    "                          title        = best_estimator_name) # title of graph\n",
    "\n",
    "    Citiation\n",
    "    ---------\n",
    "    http://scikit-learn.org/stable/auto_examples/model_selection/plot_confusion_matrix.html\n",
    "\n",
    "    \"\"\"\n",
    "    import matplotlib.pyplot as plt\n",
    "    import numpy as np\n",
    "    import itertools\n",
    "\n",
    "    accuracy = np.trace(cm) / float(np.sum(cm))\n",
    "    misclass = 1 - accuracy\n",
    "\n",
    "    if cmap is None:\n",
    "        cmap = plt.get_cmap('Blues')\n",
    "\n",
    "    plt.figure(figsize=(8, 6))\n",
    "    plt.imshow(cm, interpolation='nearest', cmap=cmap)\n",
    "    plt.title(title)\n",
    "    plt.colorbar()\n",
    "\n",
    "    if target_names is not None:\n",
    "        tick_marks = np.arange(len(target_names))\n",
    "        plt.xticks(tick_marks, target_names, rotation=45)\n",
    "        plt.yticks(tick_marks, target_names)\n",
    "\n",
    "    if normalize:\n",
    "        cm = cm.astype('float') / cm.sum(axis=1)[:, np.newaxis]\n",
    "\n",
    "\n",
    "    thresh = cm.max() / 1.5 if normalize else cm.max() / 2\n",
    "    for i, j in itertools.product(range(cm.shape[0]), range(cm.shape[1])):\n",
    "        if normalize:\n",
    "            plt.text(j, i, \"{:0.4f}\".format(cm[i, j]),\n",
    "                     horizontalalignment=\"center\",\n",
    "                     color=\"white\" if cm[i, j] > thresh else \"black\")\n",
    "        else:\n",
    "            plt.text(j, i, \"{:,}\".format(cm[i, j]),\n",
    "                     horizontalalignment=\"center\",\n",
    "                     color=\"white\" if cm[i, j] > thresh else \"black\")\n",
    "\n",
    "\n",
    "    plt.tight_layout()\n",
    "    plt.ylabel('True label')\n",
    "    plt.xlabel('Predicted label\\naccuracy={:0.4f}; misclass={:0.4f}'.format(accuracy, misclass))\n",
    "    plt.show()"
   ],
   "metadata": {
    "collapsed": false,
    "pycharm": {
     "name": "#%%\n",
     "is_executing": false
    }
   }
  },
  {
   "cell_type": "markdown",
   "metadata": {},
   "source": [
    "### Load training data\n",
    "* The data is expected in the \"Input_dir\"\n",
    "* Inside subdirectories are expected from -1, 0, 1, ... 9 in which the pictures are sorted according to their values (=category)\n",
    "* Picture size must be 20x32 with 3 color channels (RGB)\n",
    "* The filename can be arbitrary\n",
    "\n",
    "* The images are stored in the x_data[]\n",
    "* The expected category for each image in the corresponding y_data[]\n",
    "\n",
    "* The last step is a shuffle (from sklearn.utils) and split the data into training and validation data"
   ]
  },
  {
   "cell_type": "code",
   "execution_count": 3,
   "metadata": {
    "pycharm": {
     "is_executing": false
    }
   },
   "outputs": [
    {
     "output_type": "stream",
     "name": "stdout",
     "text": [
      "(817, 32, 20, 3)\n(817, 11)\n"
     ]
    }
   ],
   "source": [
    "Input_dir='ziffer_sortiert_resize'\n",
    "\n",
    "files = glob.glob(Input_dir + '/*.*')\n",
    "x_data = []\n",
    "y_data = []\n",
    "\n",
    "subdir = [\"0\", \"1\", \"2\", \"3\", \"4\", \"5\", \"6\", \"7\", \"8\", \"9\", \"NaN\"]\n",
    "\n",
    "for aktsubdir in subdir:\n",
    "    files = glob.glob(Input_dir + '/' + aktsubdir + '/*.jpg')\n",
    "    if aktsubdir == \"NaN\":\n",
    "        category = 10                # NaN does not work --> convert to 10\n",
    "    else:\n",
    "        category = aktsubdir\n",
    "    \n",
    "    for aktfile in files:\n",
    "        test_image = Image.open(aktfile)\n",
    "        test_image = np.array(test_image, dtype=\"float32\")\n",
    "        x_data.append(test_image)\n",
    "        y_data.append(np.array([category]))\n",
    "\n",
    "x_data = np.array(x_data)\n",
    "y_data = np.array(y_data)\n",
    "y_data = to_categorical(y_data, 11)\n",
    "print(x_data.shape)\n",
    "print(y_data.shape)\n",
    "\n",
    "x_data, y_data = shuffle(x_data, y_data)\n",
    "\n",
    "if (Testing_Percentage > 0):\n",
    "    X_train, X_test, y_train, y_test = train_test_split(x_data, y_data, test_size=Testing_Percentage)\n",
    "else:\n",
    "    X_train = x_data\n",
    "    y_train = y_data\n",
    "\n",
    "if (Training_Percentage > 0):\n",
    "    X_train, X_val, y_train, y_val = train_test_split(X_train, y_train, test_size=Training_Percentage)\n",
    "else:\n",
    "    X_train = X_train\n",
    "    y_train = y_train"
   ]
  },
  {
   "cell_type": "markdown",
   "metadata": {},
   "source": [
    "### Define the model\n",
    "\n",
    "The layout of the network ist a typcial CNN network with alternating **Conv2D** and **MaxPool2D** layers. Finished after **flattening** with additional **Dense** layer.\n",
    "\n",
    "#### Important\n",
    "* Shape of the input layer: (32, 20, 3)\n",
    "* Number of output layers: 11\n",
    "* As loss function \"categorical_crossentropy\" is choosen, as it is a categories task"
   ]
  },
  {
   "cell_type": "code",
   "execution_count": 4,
   "metadata": {
    "pycharm": {
     "is_executing": false
    }
   },
   "outputs": [
    {
     "output_type": "stream",
     "name": "stdout",
     "text": [
      "Model: \"sequential\"\n_________________________________________________________________\nLayer (type)                 Output Shape              Param #   \n=================================================================\nbatch_normalization (BatchNo (None, 32, 20, 3)         12        \n_________________________________________________________________\nconv2d (Conv2D)              (None, 32, 20, 32)        896       \n_________________________________________________________________\nmax_pooling2d (MaxPooling2D) (None, 16, 10, 32)        0         \n_________________________________________________________________\nconv2d_1 (Conv2D)            (None, 16, 10, 32)        9248      \n_________________________________________________________________\nmax_pooling2d_1 (MaxPooling2 (None, 8, 5, 32)          0         \n_________________________________________________________________\nconv2d_2 (Conv2D)            (None, 8, 5, 32)          9248      \n_________________________________________________________________\nmax_pooling2d_2 (MaxPooling2 (None, 4, 2, 32)          0         \n_________________________________________________________________\nflatten (Flatten)            (None, 256)               0         \n_________________________________________________________________\ndense (Dense)                (None, 128)               32896     \n_________________________________________________________________\ndense_1 (Dense)              (None, 11)                1419      \n=================================================================\nTotal params: 53,719\nTrainable params: 53,713\nNon-trainable params: 6\n_________________________________________________________________\n"
     ]
    }
   ],
   "source": [
    "model = Sequential()\n",
    "model.add(BatchNormalization(input_shape=(32,20,3)))\n",
    "model.add(Conv2D(32, (3, 3), padding='same', activation=\"relu\"))\n",
    "model.add(MaxPool2D(pool_size=(2,2)))\n",
    "model.add(Conv2D(32, (3, 3), padding='same'))\n",
    "model.add(MaxPool2D(pool_size=(2,2)))\n",
    "model.add(Conv2D(32, (3, 3), padding='same'))\n",
    "model.add(MaxPool2D(pool_size=(2,2)))\n",
    "model.add(Flatten())\n",
    "model.add(Dense(128,activation=\"relu\"))\n",
    "model.add(Dense(11, activation = \"softmax\"))\n",
    "model.summary()\n",
    "\n",
    "model.compile(loss=keras.losses.categorical_crossentropy, optimizer=tf.keras.optimizers.Adadelta(learning_rate=1.0, rho=0.95), metrics = [\"accuracy\"])"
   ]
  },
  {
   "source": [
    "# Training\n",
    "The input pictures are randomly scattered for brightness, pixel shift variations and rotation angle. This is implemented with a ImageDataGenerator.\n"
   ],
   "cell_type": "markdown",
   "metadata": {}
  },
  {
   "source": [
    "Batch_Size = 4\n",
    "Shift_Range = 1\n",
    "Brightness_Range = 0.3\n",
    "Rotation_Angle = 10\n",
    "ZoomRange = 0.4\n",
    "\n",
    "datagen = ImageDataGenerator(width_shift_range=[-Shift_Range,Shift_Range], \n",
    "                             height_shift_range=[-Shift_Range,Shift_Range],\n",
    "                             brightness_range=[1-Brightness_Range,1+Brightness_Range],\n",
    "                             zoom_range=[1-ZoomRange, 1+ZoomRange],\n",
    "                             rotation_range=Rotation_Angle)\n",
    "\n",
    "if (Training_Percentage > 0):\n",
    "    train_iterator = datagen.flow(X_train, y_train, batch_size=Batch_Size)\n",
    "    validation_iterator = datagen.flow(X_val, y_val, batch_size=Batch_Size)\n",
    "    history = model.fit_generator(train_iterator, validation_data = validation_iterator, epochs = Epoch_Anz)\n",
    "else:\n",
    "    train_iterator = datagen.flow(x_train, y_train, batch_size=Batch_Size)\n",
    "    history = model.fit_generator(train_iterator, epochs = Epoch_Anz)"
   ],
   "cell_type": "code",
   "metadata": {
    "scrolled": true,
    "pycharm": {
     "is_executing": false
    },
    "tags": [
     "outputPrepend"
    ]
   },
   "execution_count": 5,
   "outputs": [
    {
     "output_type": "stream",
     "name": "stdout",
     "text": [
      "913 - val_accuracy: 0.9008\n",
      "Epoch 63/200\n",
      "131/131 [==============================] - 1s 7ms/step - loss: 0.1771 - accuracy: 0.9515 - val_loss: 0.5050 - val_accuracy: 0.8931\n",
      "Epoch 64/200\n",
      "131/131 [==============================] - 1s 7ms/step - loss: 0.1167 - accuracy: 0.9612 - val_loss: 0.7733 - val_accuracy: 0.8550\n",
      "Epoch 65/200\n",
      "131/131 [==============================] - 1s 7ms/step - loss: 0.1222 - accuracy: 0.9578 - val_loss: 0.6236 - val_accuracy: 0.8550\n",
      "Epoch 66/200\n",
      "131/131 [==============================] - 1s 7ms/step - loss: 0.1624 - accuracy: 0.9499 - val_loss: 0.4179 - val_accuracy: 0.8931\n",
      "Epoch 67/200\n",
      "131/131 [==============================] - 1s 7ms/step - loss: 0.1146 - accuracy: 0.9648 - val_loss: 0.5723 - val_accuracy: 0.8779\n",
      "Epoch 68/200\n",
      "131/131 [==============================] - 1s 7ms/step - loss: 0.1756 - accuracy: 0.9545 - val_loss: 0.4423 - val_accuracy: 0.8702\n",
      "Epoch 69/200\n",
      "131/131 [==============================] - 1s 7ms/step - loss: 0.0580 - accuracy: 0.9739 - val_loss: 0.6438 - val_accuracy: 0.8473\n",
      "Epoch 70/200\n",
      "131/131 [==============================] - 1s 7ms/step - loss: 0.0589 - accuracy: 0.9801 - val_loss: 0.6598 - val_accuracy: 0.8550\n",
      "Epoch 71/200\n",
      "131/131 [==============================] - 1s 7ms/step - loss: 0.1896 - accuracy: 0.9558 - val_loss: 0.7780 - val_accuracy: 0.8321\n",
      "Epoch 72/200\n",
      "131/131 [==============================] - 1s 7ms/step - loss: 0.0956 - accuracy: 0.9800 - val_loss: 0.7813 - val_accuracy: 0.8397\n",
      "Epoch 73/200\n",
      "131/131 [==============================] - 1s 7ms/step - loss: 0.1529 - accuracy: 0.9584 - val_loss: 0.7894 - val_accuracy: 0.8244\n",
      "Epoch 74/200\n",
      "131/131 [==============================] - 1s 7ms/step - loss: 0.1212 - accuracy: 0.9638 - val_loss: 1.0117 - val_accuracy: 0.8168\n",
      "Epoch 75/200\n",
      "131/131 [==============================] - 1s 7ms/step - loss: 0.1312 - accuracy: 0.9632 - val_loss: 0.7289 - val_accuracy: 0.8473\n",
      "Epoch 76/200\n",
      "131/131 [==============================] - 1s 7ms/step - loss: 0.1564 - accuracy: 0.9589 - val_loss: 0.8060 - val_accuracy: 0.8779\n",
      "Epoch 77/200\n",
      "131/131 [==============================] - 1s 7ms/step - loss: 0.0538 - accuracy: 0.9774 - val_loss: 0.6431 - val_accuracy: 0.8244\n",
      "Epoch 78/200\n",
      "131/131 [==============================] - 1s 7ms/step - loss: 0.1875 - accuracy: 0.9750 - val_loss: 0.4095 - val_accuracy: 0.9008\n",
      "Epoch 79/200\n",
      "131/131 [==============================] - 1s 7ms/step - loss: 0.1138 - accuracy: 0.9609 - val_loss: 0.7831 - val_accuracy: 0.8779\n",
      "Epoch 80/200\n",
      "131/131 [==============================] - 1s 7ms/step - loss: 0.0863 - accuracy: 0.9845 - val_loss: 0.8389 - val_accuracy: 0.8550\n",
      "Epoch 81/200\n",
      "131/131 [==============================] - 1s 7ms/step - loss: 0.1154 - accuracy: 0.9684 - val_loss: 0.7931 - val_accuracy: 0.8244\n",
      "Epoch 82/200\n",
      "131/131 [==============================] - 1s 7ms/step - loss: 0.1253 - accuracy: 0.9572 - val_loss: 0.5893 - val_accuracy: 0.9008\n",
      "Epoch 83/200\n",
      "131/131 [==============================] - 1s 7ms/step - loss: 0.1159 - accuracy: 0.9647 - val_loss: 0.7725 - val_accuracy: 0.8397\n",
      "Epoch 84/200\n",
      "131/131 [==============================] - 1s 7ms/step - loss: 0.0645 - accuracy: 0.9839 - val_loss: 0.8501 - val_accuracy: 0.8702\n",
      "Epoch 85/200\n",
      "131/131 [==============================] - 1s 7ms/step - loss: 0.0652 - accuracy: 0.9756 - val_loss: 0.5340 - val_accuracy: 0.8855\n",
      "Epoch 86/200\n",
      "131/131 [==============================] - 1s 7ms/step - loss: 0.0694 - accuracy: 0.9661 - val_loss: 0.6743 - val_accuracy: 0.8702\n",
      "Epoch 87/200\n",
      "131/131 [==============================] - 1s 7ms/step - loss: 0.0907 - accuracy: 0.9701 - val_loss: 0.4503 - val_accuracy: 0.8931\n",
      "Epoch 88/200\n",
      "131/131 [==============================] - 1s 7ms/step - loss: 0.1010 - accuracy: 0.9701 - val_loss: 0.5055 - val_accuracy: 0.8855\n",
      "Epoch 89/200\n",
      "131/131 [==============================] - 1s 7ms/step - loss: 0.0910 - accuracy: 0.9732 - val_loss: 0.5629 - val_accuracy: 0.8779\n",
      "Epoch 90/200\n",
      "131/131 [==============================] - 1s 7ms/step - loss: 0.0676 - accuracy: 0.9688 - val_loss: 0.5486 - val_accuracy: 0.9008\n",
      "Epoch 91/200\n",
      "131/131 [==============================] - 1s 7ms/step - loss: 0.0461 - accuracy: 0.9877 - val_loss: 0.6535 - val_accuracy: 0.8397\n",
      "Epoch 92/200\n",
      "131/131 [==============================] - 1s 7ms/step - loss: 0.1577 - accuracy: 0.9704 - val_loss: 0.8659 - val_accuracy: 0.8473\n",
      "Epoch 93/200\n",
      "131/131 [==============================] - 1s 7ms/step - loss: 0.1045 - accuracy: 0.9604 - val_loss: 0.5649 - val_accuracy: 0.8626\n",
      "Epoch 94/200\n",
      "131/131 [==============================] - 1s 7ms/step - loss: 0.0731 - accuracy: 0.9764 - val_loss: 1.2119 - val_accuracy: 0.8015\n",
      "Epoch 95/200\n",
      "131/131 [==============================] - 1s 7ms/step - loss: 0.1365 - accuracy: 0.9629 - val_loss: 0.7533 - val_accuracy: 0.8550\n",
      "Epoch 96/200\n",
      "131/131 [==============================] - 1s 7ms/step - loss: 0.0414 - accuracy: 0.9860 - val_loss: 0.8499 - val_accuracy: 0.8550\n",
      "Epoch 97/200\n",
      "131/131 [==============================] - 1s 7ms/step - loss: 0.0852 - accuracy: 0.9597 - val_loss: 0.6690 - val_accuracy: 0.8626\n",
      "Epoch 98/200\n",
      "131/131 [==============================] - 1s 7ms/step - loss: 0.1216 - accuracy: 0.9630 - val_loss: 0.6033 - val_accuracy: 0.8702\n",
      "Epoch 99/200\n",
      "131/131 [==============================] - 1s 7ms/step - loss: 0.0437 - accuracy: 0.9886 - val_loss: 0.8869 - val_accuracy: 0.8626\n",
      "Epoch 100/200\n",
      "131/131 [==============================] - 1s 7ms/step - loss: 0.0358 - accuracy: 0.9895 - val_loss: 0.5533 - val_accuracy: 0.8550\n",
      "Epoch 101/200\n",
      "131/131 [==============================] - 1s 7ms/step - loss: 0.0358 - accuracy: 0.9934 - val_loss: 0.9908 - val_accuracy: 0.8855\n",
      "Epoch 102/200\n",
      "131/131 [==============================] - 1s 7ms/step - loss: 0.1335 - accuracy: 0.9718 - val_loss: 0.9024 - val_accuracy: 0.8702\n",
      "Epoch 103/200\n",
      "131/131 [==============================] - 1s 7ms/step - loss: 0.0562 - accuracy: 0.9841 - val_loss: 0.6616 - val_accuracy: 0.8550\n",
      "Epoch 104/200\n",
      "131/131 [==============================] - 1s 7ms/step - loss: 0.0998 - accuracy: 0.9652 - val_loss: 0.5922 - val_accuracy: 0.8702\n",
      "Epoch 105/200\n",
      "131/131 [==============================] - 1s 7ms/step - loss: 0.1068 - accuracy: 0.9741 - val_loss: 0.7120 - val_accuracy: 0.8702\n",
      "Epoch 106/200\n",
      "131/131 [==============================] - 1s 7ms/step - loss: 0.0684 - accuracy: 0.9807 - val_loss: 0.6115 - val_accuracy: 0.8855\n",
      "Epoch 107/200\n",
      "131/131 [==============================] - 1s 7ms/step - loss: 0.0354 - accuracy: 0.9901 - val_loss: 0.8093 - val_accuracy: 0.8855\n",
      "Epoch 108/200\n",
      "131/131 [==============================] - 1s 7ms/step - loss: 0.1058 - accuracy: 0.9728 - val_loss: 0.7607 - val_accuracy: 0.8779\n",
      "Epoch 109/200\n",
      "131/131 [==============================] - 1s 7ms/step - loss: 0.0628 - accuracy: 0.9834 - val_loss: 1.0005 - val_accuracy: 0.8550\n",
      "Epoch 110/200\n",
      "131/131 [==============================] - 1s 7ms/step - loss: 0.1423 - accuracy: 0.9708 - val_loss: 0.9452 - val_accuracy: 0.8626\n",
      "Epoch 111/200\n",
      "131/131 [==============================] - 1s 7ms/step - loss: 0.0587 - accuracy: 0.9799 - val_loss: 0.9685 - val_accuracy: 0.8473\n",
      "Epoch 112/200\n",
      "131/131 [==============================] - 1s 7ms/step - loss: 0.0465 - accuracy: 0.9827 - val_loss: 0.6944 - val_accuracy: 0.8702\n",
      "Epoch 113/200\n",
      "131/131 [==============================] - 1s 7ms/step - loss: 0.0330 - accuracy: 0.9843 - val_loss: 0.5612 - val_accuracy: 0.9084\n",
      "Epoch 114/200\n",
      "131/131 [==============================] - 1s 8ms/step - loss: 0.0933 - accuracy: 0.9753 - val_loss: 0.6163 - val_accuracy: 0.8931\n",
      "Epoch 115/200\n",
      "131/131 [==============================] - 1s 7ms/step - loss: 0.0797 - accuracy: 0.9716 - val_loss: 0.4305 - val_accuracy: 0.8779\n",
      "Epoch 116/200\n",
      "131/131 [==============================] - 1s 7ms/step - loss: 0.0732 - accuracy: 0.9783 - val_loss: 0.7440 - val_accuracy: 0.8702\n",
      "Epoch 117/200\n",
      "131/131 [==============================] - 1s 7ms/step - loss: 0.0339 - accuracy: 0.9873 - val_loss: 0.5466 - val_accuracy: 0.8855\n",
      "Epoch 118/200\n",
      "131/131 [==============================] - 1s 7ms/step - loss: 0.0400 - accuracy: 0.9882 - val_loss: 1.1654 - val_accuracy: 0.8244\n",
      "Epoch 119/200\n",
      "131/131 [==============================] - 1s 8ms/step - loss: 0.0822 - accuracy: 0.9792 - val_loss: 0.7674 - val_accuracy: 0.9008\n",
      "Epoch 120/200\n",
      "131/131 [==============================] - 1s 7ms/step - loss: 0.0812 - accuracy: 0.9617 - val_loss: 0.9273 - val_accuracy: 0.8550\n",
      "Epoch 121/200\n",
      "131/131 [==============================] - 1s 7ms/step - loss: 0.0309 - accuracy: 0.9886 - val_loss: 0.9043 - val_accuracy: 0.8702\n",
      "Epoch 122/200\n",
      "131/131 [==============================] - 1s 7ms/step - loss: 0.0549 - accuracy: 0.9832 - val_loss: 0.5129 - val_accuracy: 0.8855\n",
      "Epoch 123/200\n",
      "131/131 [==============================] - 1s 7ms/step - loss: 0.1297 - accuracy: 0.9591 - val_loss: 1.1013 - val_accuracy: 0.8244\n",
      "Epoch 124/200\n",
      "131/131 [==============================] - 1s 7ms/step - loss: 0.1142 - accuracy: 0.9720 - val_loss: 0.8251 - val_accuracy: 0.8779\n",
      "Epoch 125/200\n",
      "131/131 [==============================] - 1s 7ms/step - loss: 0.0704 - accuracy: 0.9827 - val_loss: 0.7511 - val_accuracy: 0.8702\n",
      "Epoch 126/200\n",
      "131/131 [==============================] - 1s 7ms/step - loss: 0.1057 - accuracy: 0.9834 - val_loss: 0.5855 - val_accuracy: 0.8855\n",
      "Epoch 127/200\n",
      "131/131 [==============================] - 1s 7ms/step - loss: 0.0641 - accuracy: 0.9845 - val_loss: 0.5266 - val_accuracy: 0.9008\n",
      "Epoch 128/200\n",
      "131/131 [==============================] - 1s 7ms/step - loss: 0.0282 - accuracy: 0.9909 - val_loss: 0.7793 - val_accuracy: 0.8855\n",
      "Epoch 129/200\n",
      "131/131 [==============================] - 1s 7ms/step - loss: 0.0878 - accuracy: 0.9731 - val_loss: 0.9143 - val_accuracy: 0.8626\n",
      "Epoch 130/200\n",
      "131/131 [==============================] - 1s 7ms/step - loss: 0.1390 - accuracy: 0.9629 - val_loss: 0.5390 - val_accuracy: 0.9008\n",
      "Epoch 131/200\n",
      "131/131 [==============================] - 1s 7ms/step - loss: 0.0595 - accuracy: 0.9798 - val_loss: 0.7547 - val_accuracy: 0.8779\n",
      "Epoch 132/200\n",
      "131/131 [==============================] - 1s 7ms/step - loss: 0.0809 - accuracy: 0.9723 - val_loss: 0.4674 - val_accuracy: 0.9313\n",
      "Epoch 133/200\n",
      "131/131 [==============================] - 1s 7ms/step - loss: 0.0840 - accuracy: 0.9709 - val_loss: 1.0190 - val_accuracy: 0.8702\n",
      "Epoch 134/200\n",
      "131/131 [==============================] - 1s 7ms/step - loss: 0.0537 - accuracy: 0.9880 - val_loss: 0.6355 - val_accuracy: 0.8550\n",
      "Epoch 135/200\n",
      "131/131 [==============================] - 1s 7ms/step - loss: 0.0314 - accuracy: 0.9874 - val_loss: 0.5352 - val_accuracy: 0.8855\n",
      "Epoch 136/200\n",
      "131/131 [==============================] - 1s 7ms/step - loss: 0.0533 - accuracy: 0.9830 - val_loss: 0.5254 - val_accuracy: 0.9008\n",
      "Epoch 137/200\n",
      "131/131 [==============================] - 1s 7ms/step - loss: 0.0230 - accuracy: 0.9907 - val_loss: 0.7593 - val_accuracy: 0.8473\n",
      "Epoch 138/200\n",
      "131/131 [==============================] - 1s 7ms/step - loss: 0.0628 - accuracy: 0.9788 - val_loss: 0.5884 - val_accuracy: 0.8855\n",
      "Epoch 139/200\n",
      "131/131 [==============================] - 1s 7ms/step - loss: 0.0459 - accuracy: 0.9829 - val_loss: 0.8427 - val_accuracy: 0.8550\n",
      "Epoch 140/200\n",
      "131/131 [==============================] - 1s 7ms/step - loss: 0.0538 - accuracy: 0.9835 - val_loss: 0.7801 - val_accuracy: 0.9084\n",
      "Epoch 141/200\n",
      "131/131 [==============================] - 1s 7ms/step - loss: 0.0417 - accuracy: 0.9895 - val_loss: 1.1564 - val_accuracy: 0.8779\n",
      "Epoch 142/200\n",
      "131/131 [==============================] - 1s 7ms/step - loss: 0.0474 - accuracy: 0.9932 - val_loss: 0.7051 - val_accuracy: 0.8931\n",
      "Epoch 143/200\n",
      "131/131 [==============================] - 1s 7ms/step - loss: 0.0411 - accuracy: 0.9911 - val_loss: 0.7015 - val_accuracy: 0.9008\n",
      "Epoch 144/200\n",
      "131/131 [==============================] - 1s 7ms/step - loss: 0.0840 - accuracy: 0.9763 - val_loss: 0.8375 - val_accuracy: 0.8702\n",
      "Epoch 145/200\n",
      "131/131 [==============================] - 1s 7ms/step - loss: 0.1832 - accuracy: 0.9757 - val_loss: 0.5695 - val_accuracy: 0.8931\n",
      "Epoch 146/200\n",
      "131/131 [==============================] - 1s 7ms/step - loss: 0.0557 - accuracy: 0.9812 - val_loss: 0.7381 - val_accuracy: 0.8779\n",
      "Epoch 147/200\n",
      "131/131 [==============================] - 1s 7ms/step - loss: 0.0727 - accuracy: 0.9737 - val_loss: 0.8144 - val_accuracy: 0.9008\n",
      "Epoch 148/200\n",
      "131/131 [==============================] - 1s 7ms/step - loss: 0.0437 - accuracy: 0.9850 - val_loss: 0.5786 - val_accuracy: 0.8702\n",
      "Epoch 149/200\n",
      "131/131 [==============================] - 1s 7ms/step - loss: 0.0901 - accuracy: 0.9688 - val_loss: 0.8330 - val_accuracy: 0.8626\n",
      "Epoch 150/200\n",
      "131/131 [==============================] - 1s 7ms/step - loss: 0.0694 - accuracy: 0.9825 - val_loss: 0.9628 - val_accuracy: 0.8473\n",
      "Epoch 151/200\n",
      "131/131 [==============================] - 1s 7ms/step - loss: 0.0979 - accuracy: 0.9647 - val_loss: 1.0345 - val_accuracy: 0.8702\n",
      "Epoch 152/200\n",
      "131/131 [==============================] - 1s 7ms/step - loss: 0.0578 - accuracy: 0.9790 - val_loss: 0.7583 - val_accuracy: 0.8855\n",
      "Epoch 153/200\n",
      "131/131 [==============================] - 1s 7ms/step - loss: 0.1029 - accuracy: 0.9576 - val_loss: 0.4509 - val_accuracy: 0.8931\n",
      "Epoch 154/200\n",
      "131/131 [==============================] - 1s 8ms/step - loss: 0.0809 - accuracy: 0.9790 - val_loss: 0.9088 - val_accuracy: 0.8550\n",
      "Epoch 155/200\n",
      "131/131 [==============================] - 1s 7ms/step - loss: 0.0246 - accuracy: 0.9923 - val_loss: 0.4615 - val_accuracy: 0.9160\n",
      "Epoch 156/200\n",
      "131/131 [==============================] - 1s 7ms/step - loss: 0.0595 - accuracy: 0.9815 - val_loss: 0.6805 - val_accuracy: 0.8855\n",
      "Epoch 157/200\n",
      "131/131 [==============================] - 1s 7ms/step - loss: 0.1126 - accuracy: 0.9717 - val_loss: 0.6310 - val_accuracy: 0.9084\n",
      "Epoch 158/200\n",
      "131/131 [==============================] - 1s 7ms/step - loss: 0.0357 - accuracy: 0.9872 - val_loss: 0.6431 - val_accuracy: 0.8702\n",
      "Epoch 159/200\n",
      "131/131 [==============================] - 1s 8ms/step - loss: 0.0714 - accuracy: 0.9810 - val_loss: 0.6693 - val_accuracy: 0.8473\n",
      "Epoch 160/200\n",
      "131/131 [==============================] - 1s 7ms/step - loss: 0.0092 - accuracy: 0.9985 - val_loss: 0.5233 - val_accuracy: 0.9160\n",
      "Epoch 161/200\n",
      "131/131 [==============================] - 1s 7ms/step - loss: 0.0489 - accuracy: 0.9773 - val_loss: 0.4629 - val_accuracy: 0.9160\n",
      "Epoch 162/200\n",
      "131/131 [==============================] - 1s 7ms/step - loss: 0.0381 - accuracy: 0.9855 - val_loss: 0.6369 - val_accuracy: 0.8779\n",
      "Epoch 163/200\n",
      "131/131 [==============================] - 1s 7ms/step - loss: 0.0242 - accuracy: 0.9909 - val_loss: 0.9102 - val_accuracy: 0.8702\n",
      "Epoch 164/200\n",
      "131/131 [==============================] - 1s 7ms/step - loss: 0.0912 - accuracy: 0.9633 - val_loss: 0.5954 - val_accuracy: 0.8702\n",
      "Epoch 165/200\n",
      "131/131 [==============================] - 1s 7ms/step - loss: 0.0743 - accuracy: 0.9848 - val_loss: 0.6204 - val_accuracy: 0.8931\n",
      "Epoch 166/200\n",
      "131/131 [==============================] - 1s 7ms/step - loss: 0.0760 - accuracy: 0.9788 - val_loss: 0.7743 - val_accuracy: 0.9084\n",
      "Epoch 167/200\n",
      "131/131 [==============================] - 1s 7ms/step - loss: 0.0309 - accuracy: 0.9811 - val_loss: 0.8281 - val_accuracy: 0.8855\n",
      "Epoch 168/200\n",
      "131/131 [==============================] - 1s 7ms/step - loss: 0.0259 - accuracy: 0.9925 - val_loss: 0.7493 - val_accuracy: 0.8855\n",
      "Epoch 169/200\n",
      "131/131 [==============================] - 1s 7ms/step - loss: 0.0375 - accuracy: 0.9884 - val_loss: 0.4090 - val_accuracy: 0.9237\n",
      "Epoch 170/200\n",
      "131/131 [==============================] - 1s 7ms/step - loss: 0.0603 - accuracy: 0.9755 - val_loss: 0.2583 - val_accuracy: 0.9466\n",
      "Epoch 171/200\n",
      "131/131 [==============================] - 1s 7ms/step - loss: 0.0494 - accuracy: 0.9928 - val_loss: 0.6467 - val_accuracy: 0.8779\n",
      "Epoch 172/200\n",
      "131/131 [==============================] - 1s 7ms/step - loss: 0.0643 - accuracy: 0.9823 - val_loss: 0.7383 - val_accuracy: 0.9008\n",
      "Epoch 173/200\n",
      "131/131 [==============================] - 1s 8ms/step - loss: 0.1054 - accuracy: 0.9733 - val_loss: 0.4027 - val_accuracy: 0.9084\n",
      "Epoch 174/200\n",
      "131/131 [==============================] - 1s 7ms/step - loss: 0.0638 - accuracy: 0.9859 - val_loss: 0.9874 - val_accuracy: 0.9084\n",
      "Epoch 175/200\n",
      "131/131 [==============================] - 1s 7ms/step - loss: 0.0672 - accuracy: 0.9788 - val_loss: 0.6258 - val_accuracy: 0.8931\n",
      "Epoch 176/200\n",
      "131/131 [==============================] - 1s 7ms/step - loss: 0.0515 - accuracy: 0.9748 - val_loss: 0.8464 - val_accuracy: 0.8702\n",
      "Epoch 177/200\n",
      "131/131 [==============================] - 1s 7ms/step - loss: 0.0473 - accuracy: 0.9826 - val_loss: 0.6691 - val_accuracy: 0.8626\n",
      "Epoch 178/200\n",
      "131/131 [==============================] - 1s 7ms/step - loss: 0.0423 - accuracy: 0.9892 - val_loss: 0.5578 - val_accuracy: 0.8855\n",
      "Epoch 179/200\n",
      "131/131 [==============================] - 1s 7ms/step - loss: 0.0276 - accuracy: 0.9836 - val_loss: 0.6397 - val_accuracy: 0.8931\n",
      "Epoch 180/200\n",
      "131/131 [==============================] - 1s 7ms/step - loss: 0.0556 - accuracy: 0.9692 - val_loss: 0.7440 - val_accuracy: 0.8931\n",
      "Epoch 181/200\n",
      "131/131 [==============================] - 1s 7ms/step - loss: 0.0926 - accuracy: 0.9721 - val_loss: 0.7912 - val_accuracy: 0.8855\n",
      "Epoch 182/200\n",
      "131/131 [==============================] - 1s 7ms/step - loss: 0.0717 - accuracy: 0.9821 - val_loss: 0.4825 - val_accuracy: 0.9008\n",
      "Epoch 183/200\n",
      "131/131 [==============================] - 1s 7ms/step - loss: 0.0734 - accuracy: 0.9811 - val_loss: 0.6265 - val_accuracy: 0.8931\n",
      "Epoch 184/200\n",
      "131/131 [==============================] - 1s 7ms/step - loss: 0.0397 - accuracy: 0.9780 - val_loss: 0.7067 - val_accuracy: 0.8855\n",
      "Epoch 185/200\n",
      "131/131 [==============================] - 1s 7ms/step - loss: 0.0852 - accuracy: 0.9801 - val_loss: 0.7033 - val_accuracy: 0.8855\n",
      "Epoch 186/200\n",
      "131/131 [==============================] - 1s 7ms/step - loss: 0.0379 - accuracy: 0.9900 - val_loss: 0.6494 - val_accuracy: 0.8626\n",
      "Epoch 187/200\n",
      "131/131 [==============================] - 1s 7ms/step - loss: 0.0482 - accuracy: 0.9779 - val_loss: 0.8837 - val_accuracy: 0.8550\n",
      "Epoch 188/200\n",
      "131/131 [==============================] - 1s 7ms/step - loss: 0.0699 - accuracy: 0.9805 - val_loss: 0.6356 - val_accuracy: 0.8931\n",
      "Epoch 189/200\n",
      "131/131 [==============================] - 1s 7ms/step - loss: 0.0929 - accuracy: 0.9774 - val_loss: 1.2590 - val_accuracy: 0.8473\n",
      "Epoch 190/200\n",
      "131/131 [==============================] - 1s 7ms/step - loss: 0.0468 - accuracy: 0.9757 - val_loss: 0.7185 - val_accuracy: 0.9008\n",
      "Epoch 191/200\n",
      "131/131 [==============================] - 1s 7ms/step - loss: 0.0386 - accuracy: 0.9859 - val_loss: 0.6933 - val_accuracy: 0.8855\n",
      "Epoch 192/200\n",
      "131/131 [==============================] - 1s 7ms/step - loss: 0.0236 - accuracy: 0.9920 - val_loss: 1.2446 - val_accuracy: 0.8550\n",
      "Epoch 193/200\n",
      "131/131 [==============================] - 1s 7ms/step - loss: 0.0384 - accuracy: 0.9810 - val_loss: 0.9977 - val_accuracy: 0.8626\n",
      "Epoch 194/200\n",
      "131/131 [==============================] - 1s 7ms/step - loss: 0.1210 - accuracy: 0.9661 - val_loss: 1.1434 - val_accuracy: 0.8702\n",
      "Epoch 195/200\n",
      "131/131 [==============================] - 1s 7ms/step - loss: 0.0158 - accuracy: 0.9949 - val_loss: 0.7792 - val_accuracy: 0.8779\n",
      "Epoch 196/200\n",
      "131/131 [==============================] - 1s 7ms/step - loss: 0.0232 - accuracy: 0.9958 - val_loss: 0.8044 - val_accuracy: 0.8702\n",
      "Epoch 197/200\n",
      "131/131 [==============================] - 1s 7ms/step - loss: 0.0539 - accuracy: 0.9853 - val_loss: 0.8002 - val_accuracy: 0.8550\n",
      "Epoch 198/200\n",
      "131/131 [==============================] - 1s 7ms/step - loss: 0.1368 - accuracy: 0.9804 - val_loss: 0.8248 - val_accuracy: 0.8855\n",
      "Epoch 199/200\n",
      "131/131 [==============================] - 1s 7ms/step - loss: 0.1619 - accuracy: 0.9557 - val_loss: 0.5796 - val_accuracy: 0.8702\n",
      "Epoch 200/200\n",
      "131/131 [==============================] - 1s 7ms/step - loss: 0.0215 - accuracy: 0.9931 - val_loss: 0.5336 - val_accuracy: 0.9008\n"
     ]
    }
   ]
  },
  {
   "cell_type": "markdown",
   "source": [
    "# Testing\n",
    "The testing input pictures are randomly scattered for brightness, pixel shift variations and rotation angle. This is implemented with a ImageDataGenerator.\n",
    "The accuracy and the confusion matrix of the testing process are illustrated. "
   ],
   "metadata": {
    "collapsed": false,
    "pycharm": {
     "name": "#%% md\n"
    }
   }
  },
  {
   "cell_type": "code",
   "execution_count": 8,
   "metadata": {
    "pycharm": {
     "is_executing": false
    }
   },
   "outputs": [
    {
     "output_type": "stream",
     "name": "stdout",
     "text": [
      "Accuracy: 0.9024390243902439\n              precision    recall  f1-score   support\n\n           0       0.82      1.00      0.90        14\n           1       1.00      0.90      0.95        10\n           2       1.00      1.00      1.00         4\n           3       1.00      0.86      0.92         7\n           4       1.00      0.64      0.78        11\n           5       0.75      1.00      0.86         6\n           6       0.86      0.75      0.80         8\n           7       1.00      0.87      0.93        15\n           8       1.00      0.62      0.76        13\n           9       0.67      1.00      0.80         6\n          10       0.91      0.99      0.95        70\n\n    accuracy                           0.90       164\n   macro avg       0.91      0.87      0.88       164\nweighted avg       0.92      0.90      0.90       164\n\n"
     ]
    },
    {
     "output_type": "display_data",
     "data": {
      "text/plain": "<Figure size 576x432 with 2 Axes>",
      "image/svg+xml": "<?xml version=\"1.0\" encoding=\"utf-8\" standalone=\"no\"?>\r\n<!DOCTYPE svg PUBLIC \"-//W3C//DTD SVG 1.1//EN\"\r\n  \"http://www.w3.org/Graphics/SVG/1.1/DTD/svg11.dtd\">\r\n<!-- Created with matplotlib (https://matplotlib.org/) -->\r\n<svg height=\"448.542156pt\" version=\"1.1\" viewBox=\"0 0 487.274617 448.542156\" width=\"487.274617pt\" xmlns=\"http://www.w3.org/2000/svg\" xmlns:xlink=\"http://www.w3.org/1999/xlink\">\r\n <defs>\r\n  <style type=\"text/css\">\r\n*{stroke-linecap:butt;stroke-linejoin:round;}\r\n  </style>\r\n </defs>\r\n <g id=\"figure_1\">\r\n  <g id=\"patch_1\">\r\n   <path d=\"M 0 448.542156 \r\nL 487.274617 448.542156 \r\nL 487.274617 0 \r\nL 0 0 \r\nz\r\n\" style=\"fill:none;\"/>\r\n  </g>\r\n  <g id=\"axes_1\">\r\n   <g id=\"patch_2\">\r\n    <path d=\"M 48.96875 387.709426 \r\nL 414.360051 387.709426 \r\nL 414.360051 22.318125 \r\nL 48.96875 22.318125 \r\nz\r\n\" style=\"fill:#ffffff;\"/>\r\n   </g>\r\n   <g clip-path=\"url(#p50b0da3949)\">\r\n    <image height=\"366\" id=\"image80aadcbca0\" transform=\"scale(1 -1)translate(0 -366)\" width=\"366\" x=\"48.96875\" xlink:href=\"data:image/png;base64,\r\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\" y=\"-21.709426\"/>\r\n   </g>\r\n   <g id=\"matplotlib.axis_1\">\r\n    <g id=\"xtick_1\">\r\n     <g id=\"line2d_1\">\r\n      <defs>\r\n       <path d=\"M 0 0 \r\nL 0 3.5 \r\n\" id=\"m393c027008\" style=\"stroke:#000000;stroke-width:0.8;\"/>\r\n      </defs>\r\n      <g>\r\n       <use style=\"stroke:#000000;stroke-width:0.8;\" x=\"65.577446\" xlink:href=\"#m393c027008\" y=\"387.709426\"/>\r\n      </g>\r\n     </g>\r\n     <g id=\"text_1\">\r\n      <!-- 0 -->\r\n      <defs>\r\n       <path d=\"M 31.78125 66.40625 \r\nQ 24.171875 66.40625 20.328125 58.90625 \r\nQ 16.5 51.421875 16.5 36.375 \r\nQ 16.5 21.390625 20.328125 13.890625 \r\nQ 24.171875 6.390625 31.78125 6.390625 \r\nQ 39.453125 6.390625 43.28125 13.890625 \r\nQ 47.125 21.390625 47.125 36.375 \r\nQ 47.125 51.421875 43.28125 58.90625 \r\nQ 39.453125 66.40625 31.78125 66.40625 \r\nz\r\nM 31.78125 74.21875 \r\nQ 44.046875 74.21875 50.515625 64.515625 \r\nQ 56.984375 54.828125 56.984375 36.375 \r\nQ 56.984375 17.96875 50.515625 8.265625 \r\nQ 44.046875 -1.421875 31.78125 -1.421875 \r\nQ 19.53125 -1.421875 13.0625 8.265625 \r\nQ 6.59375 17.96875 6.59375 36.375 \r\nQ 6.59375 54.828125 13.0625 64.515625 \r\nQ 19.53125 74.21875 31.78125 74.21875 \r\nz\r\n\" id=\"DejaVuSans-48\"/>\r\n      </defs>\r\n      <g transform=\"translate(65.279135 404.5813)rotate(-45)scale(0.1 -0.1)\">\r\n       <use xlink:href=\"#DejaVuSans-48\"/>\r\n      </g>\r\n     </g>\r\n    </g>\r\n    <g id=\"xtick_2\">\r\n     <g id=\"line2d_2\">\r\n      <g>\r\n       <use style=\"stroke:#000000;stroke-width:0.8;\" x=\"98.794837\" xlink:href=\"#m393c027008\" y=\"387.709426\"/>\r\n      </g>\r\n     </g>\r\n     <g id=\"text_2\">\r\n      <!-- 1 -->\r\n      <defs>\r\n       <path d=\"M 12.40625 8.296875 \r\nL 28.515625 8.296875 \r\nL 28.515625 63.921875 \r\nL 10.984375 60.40625 \r\nL 10.984375 69.390625 \r\nL 28.421875 72.90625 \r\nL 38.28125 72.90625 \r\nL 38.28125 8.296875 \r\nL 54.390625 8.296875 \r\nL 54.390625 0 \r\nL 12.40625 0 \r\nz\r\n\" id=\"DejaVuSans-49\"/>\r\n      </defs>\r\n      <g transform=\"translate(98.496526 404.5813)rotate(-45)scale(0.1 -0.1)\">\r\n       <use xlink:href=\"#DejaVuSans-49\"/>\r\n      </g>\r\n     </g>\r\n    </g>\r\n    <g id=\"xtick_3\">\r\n     <g id=\"line2d_3\">\r\n      <g>\r\n       <use style=\"stroke:#000000;stroke-width:0.8;\" x=\"132.012228\" xlink:href=\"#m393c027008\" y=\"387.709426\"/>\r\n      </g>\r\n     </g>\r\n     <g id=\"text_3\">\r\n      <!-- 2 -->\r\n      <defs>\r\n       <path d=\"M 19.1875 8.296875 \r\nL 53.609375 8.296875 \r\nL 53.609375 0 \r\nL 7.328125 0 \r\nL 7.328125 8.296875 \r\nQ 12.9375 14.109375 22.625 23.890625 \r\nQ 32.328125 33.6875 34.8125 36.53125 \r\nQ 39.546875 41.84375 41.421875 45.53125 \r\nQ 43.3125 49.21875 43.3125 52.78125 \r\nQ 43.3125 58.59375 39.234375 62.25 \r\nQ 35.15625 65.921875 28.609375 65.921875 \r\nQ 23.96875 65.921875 18.8125 64.3125 \r\nQ 13.671875 62.703125 7.8125 59.421875 \r\nL 7.8125 69.390625 \r\nQ 13.765625 71.78125 18.9375 73 \r\nQ 24.125 74.21875 28.421875 74.21875 \r\nQ 39.75 74.21875 46.484375 68.546875 \r\nQ 53.21875 62.890625 53.21875 53.421875 \r\nQ 53.21875 48.921875 51.53125 44.890625 \r\nQ 49.859375 40.875 45.40625 35.40625 \r\nQ 44.1875 33.984375 37.640625 27.21875 \r\nQ 31.109375 20.453125 19.1875 8.296875 \r\nz\r\n\" id=\"DejaVuSans-50\"/>\r\n      </defs>\r\n      <g transform=\"translate(131.713917 404.5813)rotate(-45)scale(0.1 -0.1)\">\r\n       <use xlink:href=\"#DejaVuSans-50\"/>\r\n      </g>\r\n     </g>\r\n    </g>\r\n    <g id=\"xtick_4\">\r\n     <g id=\"line2d_4\">\r\n      <g>\r\n       <use style=\"stroke:#000000;stroke-width:0.8;\" x=\"165.229619\" xlink:href=\"#m393c027008\" y=\"387.709426\"/>\r\n      </g>\r\n     </g>\r\n     <g id=\"text_4\">\r\n      <!-- 3 -->\r\n      <defs>\r\n       <path d=\"M 40.578125 39.3125 \r\nQ 47.65625 37.796875 51.625 33 \r\nQ 55.609375 28.21875 55.609375 21.1875 \r\nQ 55.609375 10.40625 48.1875 4.484375 \r\nQ 40.765625 -1.421875 27.09375 -1.421875 \r\nQ 22.515625 -1.421875 17.65625 -0.515625 \r\nQ 12.796875 0.390625 7.625 2.203125 \r\nL 7.625 11.71875 \r\nQ 11.71875 9.328125 16.59375 8.109375 \r\nQ 21.484375 6.890625 26.8125 6.890625 \r\nQ 36.078125 6.890625 40.9375 10.546875 \r\nQ 45.796875 14.203125 45.796875 21.1875 \r\nQ 45.796875 27.640625 41.28125 31.265625 \r\nQ 36.765625 34.90625 28.71875 34.90625 \r\nL 20.21875 34.90625 \r\nL 20.21875 43.015625 \r\nL 29.109375 43.015625 \r\nQ 36.375 43.015625 40.234375 45.921875 \r\nQ 44.09375 48.828125 44.09375 54.296875 \r\nQ 44.09375 59.90625 40.109375 62.90625 \r\nQ 36.140625 65.921875 28.71875 65.921875 \r\nQ 24.65625 65.921875 20.015625 65.03125 \r\nQ 15.375 64.15625 9.8125 62.3125 \r\nL 9.8125 71.09375 \r\nQ 15.4375 72.65625 20.34375 73.4375 \r\nQ 25.25 74.21875 29.59375 74.21875 \r\nQ 40.828125 74.21875 47.359375 69.109375 \r\nQ 53.90625 64.015625 53.90625 55.328125 \r\nQ 53.90625 49.265625 50.4375 45.09375 \r\nQ 46.96875 40.921875 40.578125 39.3125 \r\nz\r\n\" id=\"DejaVuSans-51\"/>\r\n      </defs>\r\n      <g transform=\"translate(164.931308 404.5813)rotate(-45)scale(0.1 -0.1)\">\r\n       <use xlink:href=\"#DejaVuSans-51\"/>\r\n      </g>\r\n     </g>\r\n    </g>\r\n    <g id=\"xtick_5\">\r\n     <g id=\"line2d_5\">\r\n      <g>\r\n       <use style=\"stroke:#000000;stroke-width:0.8;\" x=\"198.44701\" xlink:href=\"#m393c027008\" y=\"387.709426\"/>\r\n      </g>\r\n     </g>\r\n     <g id=\"text_5\">\r\n      <!-- 4 -->\r\n      <defs>\r\n       <path d=\"M 37.796875 64.3125 \r\nL 12.890625 25.390625 \r\nL 37.796875 25.390625 \r\nz\r\nM 35.203125 72.90625 \r\nL 47.609375 72.90625 \r\nL 47.609375 25.390625 \r\nL 58.015625 25.390625 \r\nL 58.015625 17.1875 \r\nL 47.609375 17.1875 \r\nL 47.609375 0 \r\nL 37.796875 0 \r\nL 37.796875 17.1875 \r\nL 4.890625 17.1875 \r\nL 4.890625 26.703125 \r\nz\r\n\" id=\"DejaVuSans-52\"/>\r\n      </defs>\r\n      <g transform=\"translate(198.148699 404.5813)rotate(-45)scale(0.1 -0.1)\">\r\n       <use xlink:href=\"#DejaVuSans-52\"/>\r\n      </g>\r\n     </g>\r\n    </g>\r\n    <g id=\"xtick_6\">\r\n     <g id=\"line2d_6\">\r\n      <g>\r\n       <use style=\"stroke:#000000;stroke-width:0.8;\" x=\"231.664401\" xlink:href=\"#m393c027008\" y=\"387.709426\"/>\r\n      </g>\r\n     </g>\r\n     <g id=\"text_6\">\r\n      <!-- 5 -->\r\n      <defs>\r\n       <path d=\"M 10.796875 72.90625 \r\nL 49.515625 72.90625 \r\nL 49.515625 64.59375 \r\nL 19.828125 64.59375 \r\nL 19.828125 46.734375 \r\nQ 21.96875 47.46875 24.109375 47.828125 \r\nQ 26.265625 48.1875 28.421875 48.1875 \r\nQ 40.625 48.1875 47.75 41.5 \r\nQ 54.890625 34.8125 54.890625 23.390625 \r\nQ 54.890625 11.625 47.5625 5.09375 \r\nQ 40.234375 -1.421875 26.90625 -1.421875 \r\nQ 22.3125 -1.421875 17.546875 -0.640625 \r\nQ 12.796875 0.140625 7.71875 1.703125 \r\nL 7.71875 11.625 \r\nQ 12.109375 9.234375 16.796875 8.0625 \r\nQ 21.484375 6.890625 26.703125 6.890625 \r\nQ 35.15625 6.890625 40.078125 11.328125 \r\nQ 45.015625 15.765625 45.015625 23.390625 \r\nQ 45.015625 31 40.078125 35.4375 \r\nQ 35.15625 39.890625 26.703125 39.890625 \r\nQ 22.75 39.890625 18.8125 39.015625 \r\nQ 14.890625 38.140625 10.796875 36.28125 \r\nz\r\n\" id=\"DejaVuSans-53\"/>\r\n      </defs>\r\n      <g transform=\"translate(231.36609 404.5813)rotate(-45)scale(0.1 -0.1)\">\r\n       <use xlink:href=\"#DejaVuSans-53\"/>\r\n      </g>\r\n     </g>\r\n    </g>\r\n    <g id=\"xtick_7\">\r\n     <g id=\"line2d_7\">\r\n      <g>\r\n       <use style=\"stroke:#000000;stroke-width:0.8;\" x=\"264.881792\" xlink:href=\"#m393c027008\" y=\"387.709426\"/>\r\n      </g>\r\n     </g>\r\n     <g id=\"text_7\">\r\n      <!-- 6 -->\r\n      <defs>\r\n       <path d=\"M 33.015625 40.375 \r\nQ 26.375 40.375 22.484375 35.828125 \r\nQ 18.609375 31.296875 18.609375 23.390625 \r\nQ 18.609375 15.53125 22.484375 10.953125 \r\nQ 26.375 6.390625 33.015625 6.390625 \r\nQ 39.65625 6.390625 43.53125 10.953125 \r\nQ 47.40625 15.53125 47.40625 23.390625 \r\nQ 47.40625 31.296875 43.53125 35.828125 \r\nQ 39.65625 40.375 33.015625 40.375 \r\nz\r\nM 52.59375 71.296875 \r\nL 52.59375 62.3125 \r\nQ 48.875 64.0625 45.09375 64.984375 \r\nQ 41.3125 65.921875 37.59375 65.921875 \r\nQ 27.828125 65.921875 22.671875 59.328125 \r\nQ 17.53125 52.734375 16.796875 39.40625 \r\nQ 19.671875 43.65625 24.015625 45.921875 \r\nQ 28.375 48.1875 33.59375 48.1875 \r\nQ 44.578125 48.1875 50.953125 41.515625 \r\nQ 57.328125 34.859375 57.328125 23.390625 \r\nQ 57.328125 12.15625 50.6875 5.359375 \r\nQ 44.046875 -1.421875 33.015625 -1.421875 \r\nQ 20.359375 -1.421875 13.671875 8.265625 \r\nQ 6.984375 17.96875 6.984375 36.375 \r\nQ 6.984375 53.65625 15.1875 63.9375 \r\nQ 23.390625 74.21875 37.203125 74.21875 \r\nQ 40.921875 74.21875 44.703125 73.484375 \r\nQ 48.484375 72.75 52.59375 71.296875 \r\nz\r\n\" id=\"DejaVuSans-54\"/>\r\n      </defs>\r\n      <g transform=\"translate(264.583481 404.5813)rotate(-45)scale(0.1 -0.1)\">\r\n       <use xlink:href=\"#DejaVuSans-54\"/>\r\n      </g>\r\n     </g>\r\n    </g>\r\n    <g id=\"xtick_8\">\r\n     <g id=\"line2d_8\">\r\n      <g>\r\n       <use style=\"stroke:#000000;stroke-width:0.8;\" x=\"298.099183\" xlink:href=\"#m393c027008\" y=\"387.709426\"/>\r\n      </g>\r\n     </g>\r\n     <g id=\"text_8\">\r\n      <!-- 7 -->\r\n      <defs>\r\n       <path d=\"M 8.203125 72.90625 \r\nL 55.078125 72.90625 \r\nL 55.078125 68.703125 \r\nL 28.609375 0 \r\nL 18.3125 0 \r\nL 43.21875 64.59375 \r\nL 8.203125 64.59375 \r\nz\r\n\" id=\"DejaVuSans-55\"/>\r\n      </defs>\r\n      <g transform=\"translate(297.800872 404.5813)rotate(-45)scale(0.1 -0.1)\">\r\n       <use xlink:href=\"#DejaVuSans-55\"/>\r\n      </g>\r\n     </g>\r\n    </g>\r\n    <g id=\"xtick_9\">\r\n     <g id=\"line2d_9\">\r\n      <g>\r\n       <use style=\"stroke:#000000;stroke-width:0.8;\" x=\"331.316574\" xlink:href=\"#m393c027008\" y=\"387.709426\"/>\r\n      </g>\r\n     </g>\r\n     <g id=\"text_9\">\r\n      <!-- 8 -->\r\n      <defs>\r\n       <path d=\"M 31.78125 34.625 \r\nQ 24.75 34.625 20.71875 30.859375 \r\nQ 16.703125 27.09375 16.703125 20.515625 \r\nQ 16.703125 13.921875 20.71875 10.15625 \r\nQ 24.75 6.390625 31.78125 6.390625 \r\nQ 38.8125 6.390625 42.859375 10.171875 \r\nQ 46.921875 13.96875 46.921875 20.515625 \r\nQ 46.921875 27.09375 42.890625 30.859375 \r\nQ 38.875 34.625 31.78125 34.625 \r\nz\r\nM 21.921875 38.8125 \r\nQ 15.578125 40.375 12.03125 44.71875 \r\nQ 8.5 49.078125 8.5 55.328125 \r\nQ 8.5 64.0625 14.71875 69.140625 \r\nQ 20.953125 74.21875 31.78125 74.21875 \r\nQ 42.671875 74.21875 48.875 69.140625 \r\nQ 55.078125 64.0625 55.078125 55.328125 \r\nQ 55.078125 49.078125 51.53125 44.71875 \r\nQ 48 40.375 41.703125 38.8125 \r\nQ 48.828125 37.15625 52.796875 32.3125 \r\nQ 56.78125 27.484375 56.78125 20.515625 \r\nQ 56.78125 9.90625 50.3125 4.234375 \r\nQ 43.84375 -1.421875 31.78125 -1.421875 \r\nQ 19.734375 -1.421875 13.25 4.234375 \r\nQ 6.78125 9.90625 6.78125 20.515625 \r\nQ 6.78125 27.484375 10.78125 32.3125 \r\nQ 14.796875 37.15625 21.921875 38.8125 \r\nz\r\nM 18.3125 54.390625 \r\nQ 18.3125 48.734375 21.84375 45.5625 \r\nQ 25.390625 42.390625 31.78125 42.390625 \r\nQ 38.140625 42.390625 41.71875 45.5625 \r\nQ 45.3125 48.734375 45.3125 54.390625 \r\nQ 45.3125 60.0625 41.71875 63.234375 \r\nQ 38.140625 66.40625 31.78125 66.40625 \r\nQ 25.390625 66.40625 21.84375 63.234375 \r\nQ 18.3125 60.0625 18.3125 54.390625 \r\nz\r\n\" id=\"DejaVuSans-56\"/>\r\n      </defs>\r\n      <g transform=\"translate(331.018263 404.5813)rotate(-45)scale(0.1 -0.1)\">\r\n       <use xlink:href=\"#DejaVuSans-56\"/>\r\n      </g>\r\n     </g>\r\n    </g>\r\n    <g id=\"xtick_10\">\r\n     <g id=\"line2d_10\">\r\n      <g>\r\n       <use style=\"stroke:#000000;stroke-width:0.8;\" x=\"364.533965\" xlink:href=\"#m393c027008\" y=\"387.709426\"/>\r\n      </g>\r\n     </g>\r\n     <g id=\"text_10\">\r\n      <!-- 9 -->\r\n      <defs>\r\n       <path d=\"M 10.984375 1.515625 \r\nL 10.984375 10.5 \r\nQ 14.703125 8.734375 18.5 7.8125 \r\nQ 22.3125 6.890625 25.984375 6.890625 \r\nQ 35.75 6.890625 40.890625 13.453125 \r\nQ 46.046875 20.015625 46.78125 33.40625 \r\nQ 43.953125 29.203125 39.59375 26.953125 \r\nQ 35.25 24.703125 29.984375 24.703125 \r\nQ 19.046875 24.703125 12.671875 31.3125 \r\nQ 6.296875 37.9375 6.296875 49.421875 \r\nQ 6.296875 60.640625 12.9375 67.421875 \r\nQ 19.578125 74.21875 30.609375 74.21875 \r\nQ 43.265625 74.21875 49.921875 64.515625 \r\nQ 56.59375 54.828125 56.59375 36.375 \r\nQ 56.59375 19.140625 48.40625 8.859375 \r\nQ 40.234375 -1.421875 26.421875 -1.421875 \r\nQ 22.703125 -1.421875 18.890625 -0.6875 \r\nQ 15.09375 0.046875 10.984375 1.515625 \r\nz\r\nM 30.609375 32.421875 \r\nQ 37.25 32.421875 41.125 36.953125 \r\nQ 45.015625 41.5 45.015625 49.421875 \r\nQ 45.015625 57.28125 41.125 61.84375 \r\nQ 37.25 66.40625 30.609375 66.40625 \r\nQ 23.96875 66.40625 20.09375 61.84375 \r\nQ 16.21875 57.28125 16.21875 49.421875 \r\nQ 16.21875 41.5 20.09375 36.953125 \r\nQ 23.96875 32.421875 30.609375 32.421875 \r\nz\r\n\" id=\"DejaVuSans-57\"/>\r\n      </defs>\r\n      <g transform=\"translate(364.235654 404.5813)rotate(-45)scale(0.1 -0.1)\">\r\n       <use xlink:href=\"#DejaVuSans-57\"/>\r\n      </g>\r\n     </g>\r\n    </g>\r\n    <g id=\"xtick_11\">\r\n     <g id=\"line2d_11\">\r\n      <g>\r\n       <use style=\"stroke:#000000;stroke-width:0.8;\" x=\"397.751356\" xlink:href=\"#m393c027008\" y=\"387.709426\"/>\r\n      </g>\r\n     </g>\r\n     <g id=\"text_11\">\r\n      <!-- NaN -->\r\n      <defs>\r\n       <path d=\"M 9.8125 72.90625 \r\nL 23.09375 72.90625 \r\nL 55.421875 11.921875 \r\nL 55.421875 72.90625 \r\nL 64.984375 72.90625 \r\nL 64.984375 0 \r\nL 51.703125 0 \r\nL 19.390625 60.984375 \r\nL 19.390625 0 \r\nL 9.8125 0 \r\nz\r\n\" id=\"DejaVuSans-78\"/>\r\n       <path d=\"M 34.28125 27.484375 \r\nQ 23.390625 27.484375 19.1875 25 \r\nQ 14.984375 22.515625 14.984375 16.5 \r\nQ 14.984375 11.71875 18.140625 8.90625 \r\nQ 21.296875 6.109375 26.703125 6.109375 \r\nQ 34.1875 6.109375 38.703125 11.40625 \r\nQ 43.21875 16.703125 43.21875 25.484375 \r\nL 43.21875 27.484375 \r\nz\r\nM 52.203125 31.203125 \r\nL 52.203125 0 \r\nL 43.21875 0 \r\nL 43.21875 8.296875 \r\nQ 40.140625 3.328125 35.546875 0.953125 \r\nQ 30.953125 -1.421875 24.3125 -1.421875 \r\nQ 15.921875 -1.421875 10.953125 3.296875 \r\nQ 6 8.015625 6 15.921875 \r\nQ 6 25.140625 12.171875 29.828125 \r\nQ 18.359375 34.515625 30.609375 34.515625 \r\nL 43.21875 34.515625 \r\nL 43.21875 35.40625 \r\nQ 43.21875 41.609375 39.140625 45 \r\nQ 35.0625 48.390625 27.6875 48.390625 \r\nQ 23 48.390625 18.546875 47.265625 \r\nQ 14.109375 46.140625 10.015625 43.890625 \r\nL 10.015625 52.203125 \r\nQ 14.9375 54.109375 19.578125 55.046875 \r\nQ 24.21875 56 28.609375 56 \r\nQ 40.484375 56 46.34375 49.84375 \r\nQ 52.203125 43.703125 52.203125 31.203125 \r\nz\r\n\" id=\"DejaVuSans-97\"/>\r\n      </defs>\r\n      <g transform=\"translate(392.245867 414.995657)rotate(-45)scale(0.1 -0.1)\">\r\n       <use xlink:href=\"#DejaVuSans-78\"/>\r\n       <use x=\"74.804688\" xlink:href=\"#DejaVuSans-97\"/>\r\n       <use x=\"136.083984\" xlink:href=\"#DejaVuSans-78\"/>\r\n      </g>\r\n     </g>\r\n    </g>\r\n    <g id=\"text_12\">\r\n     <!-- Predicted label -->\r\n     <defs>\r\n      <path d=\"M 19.671875 64.796875 \r\nL 19.671875 37.40625 \r\nL 32.078125 37.40625 \r\nQ 38.96875 37.40625 42.71875 40.96875 \r\nQ 46.484375 44.53125 46.484375 51.125 \r\nQ 46.484375 57.671875 42.71875 61.234375 \r\nQ 38.96875 64.796875 32.078125 64.796875 \r\nz\r\nM 9.8125 72.90625 \r\nL 32.078125 72.90625 \r\nQ 44.34375 72.90625 50.609375 67.359375 \r\nQ 56.890625 61.8125 56.890625 51.125 \r\nQ 56.890625 40.328125 50.609375 34.8125 \r\nQ 44.34375 29.296875 32.078125 29.296875 \r\nL 19.671875 29.296875 \r\nL 19.671875 0 \r\nL 9.8125 0 \r\nz\r\n\" id=\"DejaVuSans-80\"/>\r\n      <path d=\"M 41.109375 46.296875 \r\nQ 39.59375 47.171875 37.8125 47.578125 \r\nQ 36.03125 48 33.890625 48 \r\nQ 26.265625 48 22.1875 43.046875 \r\nQ 18.109375 38.09375 18.109375 28.8125 \r\nL 18.109375 0 \r\nL 9.078125 0 \r\nL 9.078125 54.6875 \r\nL 18.109375 54.6875 \r\nL 18.109375 46.1875 \r\nQ 20.953125 51.171875 25.484375 53.578125 \r\nQ 30.03125 56 36.53125 56 \r\nQ 37.453125 56 38.578125 55.875 \r\nQ 39.703125 55.765625 41.0625 55.515625 \r\nz\r\n\" id=\"DejaVuSans-114\"/>\r\n      <path d=\"M 56.203125 29.59375 \r\nL 56.203125 25.203125 \r\nL 14.890625 25.203125 \r\nQ 15.484375 15.921875 20.484375 11.0625 \r\nQ 25.484375 6.203125 34.421875 6.203125 \r\nQ 39.59375 6.203125 44.453125 7.46875 \r\nQ 49.3125 8.734375 54.109375 11.28125 \r\nL 54.109375 2.78125 \r\nQ 49.265625 0.734375 44.1875 -0.34375 \r\nQ 39.109375 -1.421875 33.890625 -1.421875 \r\nQ 20.796875 -1.421875 13.15625 6.1875 \r\nQ 5.515625 13.8125 5.515625 26.8125 \r\nQ 5.515625 40.234375 12.765625 48.109375 \r\nQ 20.015625 56 32.328125 56 \r\nQ 43.359375 56 49.78125 48.890625 \r\nQ 56.203125 41.796875 56.203125 29.59375 \r\nz\r\nM 47.21875 32.234375 \r\nQ 47.125 39.59375 43.09375 43.984375 \r\nQ 39.0625 48.390625 32.421875 48.390625 \r\nQ 24.90625 48.390625 20.390625 44.140625 \r\nQ 15.875 39.890625 15.1875 32.171875 \r\nz\r\n\" id=\"DejaVuSans-101\"/>\r\n      <path d=\"M 45.40625 46.390625 \r\nL 45.40625 75.984375 \r\nL 54.390625 75.984375 \r\nL 54.390625 0 \r\nL 45.40625 0 \r\nL 45.40625 8.203125 \r\nQ 42.578125 3.328125 38.25 0.953125 \r\nQ 33.9375 -1.421875 27.875 -1.421875 \r\nQ 17.96875 -1.421875 11.734375 6.484375 \r\nQ 5.515625 14.40625 5.515625 27.296875 \r\nQ 5.515625 40.1875 11.734375 48.09375 \r\nQ 17.96875 56 27.875 56 \r\nQ 33.9375 56 38.25 53.625 \r\nQ 42.578125 51.265625 45.40625 46.390625 \r\nz\r\nM 14.796875 27.296875 \r\nQ 14.796875 17.390625 18.875 11.75 \r\nQ 22.953125 6.109375 30.078125 6.109375 \r\nQ 37.203125 6.109375 41.296875 11.75 \r\nQ 45.40625 17.390625 45.40625 27.296875 \r\nQ 45.40625 37.203125 41.296875 42.84375 \r\nQ 37.203125 48.484375 30.078125 48.484375 \r\nQ 22.953125 48.484375 18.875 42.84375 \r\nQ 14.796875 37.203125 14.796875 27.296875 \r\nz\r\n\" id=\"DejaVuSans-100\"/>\r\n      <path d=\"M 9.421875 54.6875 \r\nL 18.40625 54.6875 \r\nL 18.40625 0 \r\nL 9.421875 0 \r\nz\r\nM 9.421875 75.984375 \r\nL 18.40625 75.984375 \r\nL 18.40625 64.59375 \r\nL 9.421875 64.59375 \r\nz\r\n\" id=\"DejaVuSans-105\"/>\r\n      <path d=\"M 48.78125 52.59375 \r\nL 48.78125 44.1875 \r\nQ 44.96875 46.296875 41.140625 47.34375 \r\nQ 37.3125 48.390625 33.40625 48.390625 \r\nQ 24.65625 48.390625 19.8125 42.84375 \r\nQ 14.984375 37.3125 14.984375 27.296875 \r\nQ 14.984375 17.28125 19.8125 11.734375 \r\nQ 24.65625 6.203125 33.40625 6.203125 \r\nQ 37.3125 6.203125 41.140625 7.25 \r\nQ 44.96875 8.296875 48.78125 10.40625 \r\nL 48.78125 2.09375 \r\nQ 45.015625 0.34375 40.984375 -0.53125 \r\nQ 36.96875 -1.421875 32.421875 -1.421875 \r\nQ 20.0625 -1.421875 12.78125 6.34375 \r\nQ 5.515625 14.109375 5.515625 27.296875 \r\nQ 5.515625 40.671875 12.859375 48.328125 \r\nQ 20.21875 56 33.015625 56 \r\nQ 37.15625 56 41.109375 55.140625 \r\nQ 45.0625 54.296875 48.78125 52.59375 \r\nz\r\n\" id=\"DejaVuSans-99\"/>\r\n      <path d=\"M 18.3125 70.21875 \r\nL 18.3125 54.6875 \r\nL 36.8125 54.6875 \r\nL 36.8125 47.703125 \r\nL 18.3125 47.703125 \r\nL 18.3125 18.015625 \r\nQ 18.3125 11.328125 20.140625 9.421875 \r\nQ 21.96875 7.515625 27.59375 7.515625 \r\nL 36.8125 7.515625 \r\nL 36.8125 0 \r\nL 27.59375 0 \r\nQ 17.1875 0 13.234375 3.875 \r\nQ 9.28125 7.765625 9.28125 18.015625 \r\nL 9.28125 47.703125 \r\nL 2.6875 47.703125 \r\nL 2.6875 54.6875 \r\nL 9.28125 54.6875 \r\nL 9.28125 70.21875 \r\nz\r\n\" id=\"DejaVuSans-116\"/>\r\n      <path id=\"DejaVuSans-32\"/>\r\n      <path d=\"M 9.421875 75.984375 \r\nL 18.40625 75.984375 \r\nL 18.40625 0 \r\nL 9.421875 0 \r\nz\r\n\" id=\"DejaVuSans-108\"/>\r\n      <path d=\"M 48.6875 27.296875 \r\nQ 48.6875 37.203125 44.609375 42.84375 \r\nQ 40.53125 48.484375 33.40625 48.484375 \r\nQ 26.265625 48.484375 22.1875 42.84375 \r\nQ 18.109375 37.203125 18.109375 27.296875 \r\nQ 18.109375 17.390625 22.1875 11.75 \r\nQ 26.265625 6.109375 33.40625 6.109375 \r\nQ 40.53125 6.109375 44.609375 11.75 \r\nQ 48.6875 17.390625 48.6875 27.296875 \r\nz\r\nM 18.109375 46.390625 \r\nQ 20.953125 51.265625 25.265625 53.625 \r\nQ 29.59375 56 35.59375 56 \r\nQ 45.5625 56 51.78125 48.09375 \r\nQ 58.015625 40.1875 58.015625 27.296875 \r\nQ 58.015625 14.40625 51.78125 6.484375 \r\nQ 45.5625 -1.421875 35.59375 -1.421875 \r\nQ 29.59375 -1.421875 25.265625 0.953125 \r\nQ 20.953125 3.328125 18.109375 8.203125 \r\nL 18.109375 0 \r\nL 9.078125 0 \r\nL 9.078125 75.984375 \r\nL 18.109375 75.984375 \r\nz\r\n\" id=\"DejaVuSans-98\"/>\r\n     </defs>\r\n     <g transform=\"translate(194.512057 428.064656)scale(0.1 -0.1)\">\r\n      <use xlink:href=\"#DejaVuSans-80\"/>\r\n      <use x=\"58.552734\" xlink:href=\"#DejaVuSans-114\"/>\r\n      <use x=\"97.416016\" xlink:href=\"#DejaVuSans-101\"/>\r\n      <use x=\"158.939453\" xlink:href=\"#DejaVuSans-100\"/>\r\n      <use x=\"222.416016\" xlink:href=\"#DejaVuSans-105\"/>\r\n      <use x=\"250.199219\" xlink:href=\"#DejaVuSans-99\"/>\r\n      <use x=\"305.179688\" xlink:href=\"#DejaVuSans-116\"/>\r\n      <use x=\"344.388672\" xlink:href=\"#DejaVuSans-101\"/>\r\n      <use x=\"405.912109\" xlink:href=\"#DejaVuSans-100\"/>\r\n      <use x=\"469.388672\" xlink:href=\"#DejaVuSans-32\"/>\r\n      <use x=\"501.175781\" xlink:href=\"#DejaVuSans-108\"/>\r\n      <use x=\"528.958984\" xlink:href=\"#DejaVuSans-97\"/>\r\n      <use x=\"590.238281\" xlink:href=\"#DejaVuSans-98\"/>\r\n      <use x=\"653.714844\" xlink:href=\"#DejaVuSans-101\"/>\r\n      <use x=\"715.238281\" xlink:href=\"#DejaVuSans-108\"/>\r\n     </g>\r\n     <!-- accuracy=0.9024; misclass=0.0976 -->\r\n     <defs>\r\n      <path d=\"M 8.5 21.578125 \r\nL 8.5 54.6875 \r\nL 17.484375 54.6875 \r\nL 17.484375 21.921875 \r\nQ 17.484375 14.15625 20.5 10.265625 \r\nQ 23.53125 6.390625 29.59375 6.390625 \r\nQ 36.859375 6.390625 41.078125 11.03125 \r\nQ 45.3125 15.671875 45.3125 23.6875 \r\nL 45.3125 54.6875 \r\nL 54.296875 54.6875 \r\nL 54.296875 0 \r\nL 45.3125 0 \r\nL 45.3125 8.40625 \r\nQ 42.046875 3.421875 37.71875 1 \r\nQ 33.40625 -1.421875 27.6875 -1.421875 \r\nQ 18.265625 -1.421875 13.375 4.4375 \r\nQ 8.5 10.296875 8.5 21.578125 \r\nz\r\nM 31.109375 56 \r\nz\r\n\" id=\"DejaVuSans-117\"/>\r\n      <path d=\"M 32.171875 -5.078125 \r\nQ 28.375 -14.84375 24.75 -17.8125 \r\nQ 21.140625 -20.796875 15.09375 -20.796875 \r\nL 7.90625 -20.796875 \r\nL 7.90625 -13.28125 \r\nL 13.1875 -13.28125 \r\nQ 16.890625 -13.28125 18.9375 -11.515625 \r\nQ 21 -9.765625 23.484375 -3.21875 \r\nL 25.09375 0.875 \r\nL 2.984375 54.6875 \r\nL 12.5 54.6875 \r\nL 29.59375 11.921875 \r\nL 46.6875 54.6875 \r\nL 56.203125 54.6875 \r\nz\r\n\" id=\"DejaVuSans-121\"/>\r\n      <path d=\"M 10.59375 45.40625 \r\nL 73.1875 45.40625 \r\nL 73.1875 37.203125 \r\nL 10.59375 37.203125 \r\nz\r\nM 10.59375 25.484375 \r\nL 73.1875 25.484375 \r\nL 73.1875 17.1875 \r\nL 10.59375 17.1875 \r\nz\r\n\" id=\"DejaVuSans-61\"/>\r\n      <path d=\"M 10.6875 12.40625 \r\nL 21 12.40625 \r\nL 21 0 \r\nL 10.6875 0 \r\nz\r\n\" id=\"DejaVuSans-46\"/>\r\n      <path d=\"M 11.71875 51.703125 \r\nL 22.015625 51.703125 \r\nL 22.015625 39.3125 \r\nL 11.71875 39.3125 \r\nz\r\nM 11.71875 12.40625 \r\nL 22.015625 12.40625 \r\nL 22.015625 4 \r\nL 14.015625 -11.625 \r\nL 7.71875 -11.625 \r\nL 11.71875 4 \r\nz\r\n\" id=\"DejaVuSans-59\"/>\r\n      <path d=\"M 52 44.1875 \r\nQ 55.375 50.25 60.0625 53.125 \r\nQ 64.75 56 71.09375 56 \r\nQ 79.640625 56 84.28125 50.015625 \r\nQ 88.921875 44.046875 88.921875 33.015625 \r\nL 88.921875 0 \r\nL 79.890625 0 \r\nL 79.890625 32.71875 \r\nQ 79.890625 40.578125 77.09375 44.375 \r\nQ 74.3125 48.1875 68.609375 48.1875 \r\nQ 61.625 48.1875 57.5625 43.546875 \r\nQ 53.515625 38.921875 53.515625 30.90625 \r\nL 53.515625 0 \r\nL 44.484375 0 \r\nL 44.484375 32.71875 \r\nQ 44.484375 40.625 41.703125 44.40625 \r\nQ 38.921875 48.1875 33.109375 48.1875 \r\nQ 26.21875 48.1875 22.15625 43.53125 \r\nQ 18.109375 38.875 18.109375 30.90625 \r\nL 18.109375 0 \r\nL 9.078125 0 \r\nL 9.078125 54.6875 \r\nL 18.109375 54.6875 \r\nL 18.109375 46.1875 \r\nQ 21.1875 51.21875 25.484375 53.609375 \r\nQ 29.78125 56 35.6875 56 \r\nQ 41.65625 56 45.828125 52.96875 \r\nQ 50 49.953125 52 44.1875 \r\nz\r\n\" id=\"DejaVuSans-109\"/>\r\n      <path d=\"M 44.28125 53.078125 \r\nL 44.28125 44.578125 \r\nQ 40.484375 46.53125 36.375 47.5 \r\nQ 32.28125 48.484375 27.875 48.484375 \r\nQ 21.1875 48.484375 17.84375 46.4375 \r\nQ 14.5 44.390625 14.5 40.28125 \r\nQ 14.5 37.15625 16.890625 35.375 \r\nQ 19.28125 33.59375 26.515625 31.984375 \r\nL 29.59375 31.296875 \r\nQ 39.15625 29.25 43.1875 25.515625 \r\nQ 47.21875 21.78125 47.21875 15.09375 \r\nQ 47.21875 7.46875 41.1875 3.015625 \r\nQ 35.15625 -1.421875 24.609375 -1.421875 \r\nQ 20.21875 -1.421875 15.453125 -0.5625 \r\nQ 10.6875 0.296875 5.421875 2 \r\nL 5.421875 11.28125 \r\nQ 10.40625 8.6875 15.234375 7.390625 \r\nQ 20.0625 6.109375 24.8125 6.109375 \r\nQ 31.15625 6.109375 34.5625 8.28125 \r\nQ 37.984375 10.453125 37.984375 14.40625 \r\nQ 37.984375 18.0625 35.515625 20.015625 \r\nQ 33.0625 21.96875 24.703125 23.78125 \r\nL 21.578125 24.515625 \r\nQ 13.234375 26.265625 9.515625 29.90625 \r\nQ 5.8125 33.546875 5.8125 39.890625 \r\nQ 5.8125 47.609375 11.28125 51.796875 \r\nQ 16.75 56 26.8125 56 \r\nQ 31.78125 56 36.171875 55.265625 \r\nQ 40.578125 54.546875 44.28125 53.078125 \r\nz\r\n\" id=\"DejaVuSans-115\"/>\r\n     </defs>\r\n     <g transform=\"translate(141.185494 439.262468)scale(0.1 -0.1)\">\r\n      <use xlink:href=\"#DejaVuSans-97\"/>\r\n      <use x=\"61.279297\" xlink:href=\"#DejaVuSans-99\"/>\r\n      <use x=\"116.259766\" xlink:href=\"#DejaVuSans-99\"/>\r\n      <use x=\"171.240234\" xlink:href=\"#DejaVuSans-117\"/>\r\n      <use x=\"234.619141\" xlink:href=\"#DejaVuSans-114\"/>\r\n      <use x=\"275.732422\" xlink:href=\"#DejaVuSans-97\"/>\r\n      <use x=\"337.011719\" xlink:href=\"#DejaVuSans-99\"/>\r\n      <use x=\"391.992188\" xlink:href=\"#DejaVuSans-121\"/>\r\n      <use x=\"451.171875\" xlink:href=\"#DejaVuSans-61\"/>\r\n      <use x=\"534.960938\" xlink:href=\"#DejaVuSans-48\"/>\r\n      <use x=\"598.583984\" xlink:href=\"#DejaVuSans-46\"/>\r\n      <use x=\"630.371094\" xlink:href=\"#DejaVuSans-57\"/>\r\n      <use x=\"693.994141\" xlink:href=\"#DejaVuSans-48\"/>\r\n      <use x=\"757.617188\" xlink:href=\"#DejaVuSans-50\"/>\r\n      <use x=\"821.240234\" xlink:href=\"#DejaVuSans-52\"/>\r\n      <use x=\"884.863281\" xlink:href=\"#DejaVuSans-59\"/>\r\n      <use x=\"918.554688\" xlink:href=\"#DejaVuSans-32\"/>\r\n      <use x=\"950.341797\" xlink:href=\"#DejaVuSans-109\"/>\r\n      <use x=\"1047.753906\" xlink:href=\"#DejaVuSans-105\"/>\r\n      <use x=\"1075.537109\" xlink:href=\"#DejaVuSans-115\"/>\r\n      <use x=\"1127.636719\" xlink:href=\"#DejaVuSans-99\"/>\r\n      <use x=\"1182.617188\" xlink:href=\"#DejaVuSans-108\"/>\r\n      <use x=\"1210.400391\" xlink:href=\"#DejaVuSans-97\"/>\r\n      <use x=\"1271.679688\" xlink:href=\"#DejaVuSans-115\"/>\r\n      <use x=\"1323.779297\" xlink:href=\"#DejaVuSans-115\"/>\r\n      <use x=\"1375.878906\" xlink:href=\"#DejaVuSans-61\"/>\r\n      <use x=\"1459.667969\" xlink:href=\"#DejaVuSans-48\"/>\r\n      <use x=\"1523.291016\" xlink:href=\"#DejaVuSans-46\"/>\r\n      <use x=\"1555.078125\" xlink:href=\"#DejaVuSans-48\"/>\r\n      <use x=\"1618.701172\" xlink:href=\"#DejaVuSans-57\"/>\r\n      <use x=\"1682.324219\" xlink:href=\"#DejaVuSans-55\"/>\r\n      <use x=\"1745.947266\" xlink:href=\"#DejaVuSans-54\"/>\r\n     </g>\r\n    </g>\r\n   </g>\r\n   <g id=\"matplotlib.axis_2\">\r\n    <g id=\"ytick_1\">\r\n     <g id=\"line2d_12\">\r\n      <defs>\r\n       <path d=\"M 0 0 \r\nL -3.5 0 \r\n\" id=\"m415f70a95a\" style=\"stroke:#000000;stroke-width:0.8;\"/>\r\n      </defs>\r\n      <g>\r\n       <use style=\"stroke:#000000;stroke-width:0.8;\" x=\"48.96875\" xlink:href=\"#m415f70a95a\" y=\"38.926821\"/>\r\n      </g>\r\n     </g>\r\n     <g id=\"text_13\">\r\n      <!-- 0 -->\r\n      <g transform=\"translate(35.60625 42.726039)scale(0.1 -0.1)\">\r\n       <use xlink:href=\"#DejaVuSans-48\"/>\r\n      </g>\r\n     </g>\r\n    </g>\r\n    <g id=\"ytick_2\">\r\n     <g id=\"line2d_13\">\r\n      <g>\r\n       <use style=\"stroke:#000000;stroke-width:0.8;\" x=\"48.96875\" xlink:href=\"#m415f70a95a\" y=\"72.144212\"/>\r\n      </g>\r\n     </g>\r\n     <g id=\"text_14\">\r\n      <!-- 1 -->\r\n      <g transform=\"translate(35.60625 75.94343)scale(0.1 -0.1)\">\r\n       <use xlink:href=\"#DejaVuSans-49\"/>\r\n      </g>\r\n     </g>\r\n    </g>\r\n    <g id=\"ytick_3\">\r\n     <g id=\"line2d_14\">\r\n      <g>\r\n       <use style=\"stroke:#000000;stroke-width:0.8;\" x=\"48.96875\" xlink:href=\"#m415f70a95a\" y=\"105.361603\"/>\r\n      </g>\r\n     </g>\r\n     <g id=\"text_15\">\r\n      <!-- 2 -->\r\n      <g transform=\"translate(35.60625 109.160821)scale(0.1 -0.1)\">\r\n       <use xlink:href=\"#DejaVuSans-50\"/>\r\n      </g>\r\n     </g>\r\n    </g>\r\n    <g id=\"ytick_4\">\r\n     <g id=\"line2d_15\">\r\n      <g>\r\n       <use style=\"stroke:#000000;stroke-width:0.8;\" x=\"48.96875\" xlink:href=\"#m415f70a95a\" y=\"138.578994\"/>\r\n      </g>\r\n     </g>\r\n     <g id=\"text_16\">\r\n      <!-- 3 -->\r\n      <g transform=\"translate(35.60625 142.378212)scale(0.1 -0.1)\">\r\n       <use xlink:href=\"#DejaVuSans-51\"/>\r\n      </g>\r\n     </g>\r\n    </g>\r\n    <g id=\"ytick_5\">\r\n     <g id=\"line2d_16\">\r\n      <g>\r\n       <use style=\"stroke:#000000;stroke-width:0.8;\" x=\"48.96875\" xlink:href=\"#m415f70a95a\" y=\"171.796385\"/>\r\n      </g>\r\n     </g>\r\n     <g id=\"text_17\">\r\n      <!-- 4 -->\r\n      <g transform=\"translate(35.60625 175.595603)scale(0.1 -0.1)\">\r\n       <use xlink:href=\"#DejaVuSans-52\"/>\r\n      </g>\r\n     </g>\r\n    </g>\r\n    <g id=\"ytick_6\">\r\n     <g id=\"line2d_17\">\r\n      <g>\r\n       <use style=\"stroke:#000000;stroke-width:0.8;\" x=\"48.96875\" xlink:href=\"#m415f70a95a\" y=\"205.013776\"/>\r\n      </g>\r\n     </g>\r\n     <g id=\"text_18\">\r\n      <!-- 5 -->\r\n      <g transform=\"translate(35.60625 208.812994)scale(0.1 -0.1)\">\r\n       <use xlink:href=\"#DejaVuSans-53\"/>\r\n      </g>\r\n     </g>\r\n    </g>\r\n    <g id=\"ytick_7\">\r\n     <g id=\"line2d_18\">\r\n      <g>\r\n       <use style=\"stroke:#000000;stroke-width:0.8;\" x=\"48.96875\" xlink:href=\"#m415f70a95a\" y=\"238.231167\"/>\r\n      </g>\r\n     </g>\r\n     <g id=\"text_19\">\r\n      <!-- 6 -->\r\n      <g transform=\"translate(35.60625 242.030386)scale(0.1 -0.1)\">\r\n       <use xlink:href=\"#DejaVuSans-54\"/>\r\n      </g>\r\n     </g>\r\n    </g>\r\n    <g id=\"ytick_8\">\r\n     <g id=\"line2d_19\">\r\n      <g>\r\n       <use style=\"stroke:#000000;stroke-width:0.8;\" x=\"48.96875\" xlink:href=\"#m415f70a95a\" y=\"271.448558\"/>\r\n      </g>\r\n     </g>\r\n     <g id=\"text_20\">\r\n      <!-- 7 -->\r\n      <g transform=\"translate(35.60625 275.247777)scale(0.1 -0.1)\">\r\n       <use xlink:href=\"#DejaVuSans-55\"/>\r\n      </g>\r\n     </g>\r\n    </g>\r\n    <g id=\"ytick_9\">\r\n     <g id=\"line2d_20\">\r\n      <g>\r\n       <use style=\"stroke:#000000;stroke-width:0.8;\" x=\"48.96875\" xlink:href=\"#m415f70a95a\" y=\"304.665949\"/>\r\n      </g>\r\n     </g>\r\n     <g id=\"text_21\">\r\n      <!-- 8 -->\r\n      <g transform=\"translate(35.60625 308.465168)scale(0.1 -0.1)\">\r\n       <use xlink:href=\"#DejaVuSans-56\"/>\r\n      </g>\r\n     </g>\r\n    </g>\r\n    <g id=\"ytick_10\">\r\n     <g id=\"line2d_21\">\r\n      <g>\r\n       <use style=\"stroke:#000000;stroke-width:0.8;\" x=\"48.96875\" xlink:href=\"#m415f70a95a\" y=\"337.88334\"/>\r\n      </g>\r\n     </g>\r\n     <g id=\"text_22\">\r\n      <!-- 9 -->\r\n      <g transform=\"translate(35.60625 341.682559)scale(0.1 -0.1)\">\r\n       <use xlink:href=\"#DejaVuSans-57\"/>\r\n      </g>\r\n     </g>\r\n    </g>\r\n    <g id=\"ytick_11\">\r\n     <g id=\"line2d_22\">\r\n      <g>\r\n       <use style=\"stroke:#000000;stroke-width:0.8;\" x=\"48.96875\" xlink:href=\"#m415f70a95a\" y=\"371.100731\"/>\r\n      </g>\r\n     </g>\r\n     <g id=\"text_23\">\r\n      <!-- NaN -->\r\n      <g transform=\"translate(20.878125 374.89995)scale(0.1 -0.1)\">\r\n       <use xlink:href=\"#DejaVuSans-78\"/>\r\n       <use x=\"74.804688\" xlink:href=\"#DejaVuSans-97\"/>\r\n       <use x=\"136.083984\" xlink:href=\"#DejaVuSans-78\"/>\r\n      </g>\r\n     </g>\r\n    </g>\r\n    <g id=\"text_24\">\r\n     <!-- True label -->\r\n     <defs>\r\n      <path d=\"M -0.296875 72.90625 \r\nL 61.375 72.90625 \r\nL 61.375 64.59375 \r\nL 35.5 64.59375 \r\nL 35.5 0 \r\nL 25.59375 0 \r\nL 25.59375 64.59375 \r\nL -0.296875 64.59375 \r\nz\r\n\" id=\"DejaVuSans-84\"/>\r\n     </defs>\r\n     <g transform=\"translate(14.798438 229.312994)rotate(-90)scale(0.1 -0.1)\">\r\n      <use xlink:href=\"#DejaVuSans-84\"/>\r\n      <use x=\"46.333984\" xlink:href=\"#DejaVuSans-114\"/>\r\n      <use x=\"87.447266\" xlink:href=\"#DejaVuSans-117\"/>\r\n      <use x=\"150.826172\" xlink:href=\"#DejaVuSans-101\"/>\r\n      <use x=\"212.349609\" xlink:href=\"#DejaVuSans-32\"/>\r\n      <use x=\"244.136719\" xlink:href=\"#DejaVuSans-108\"/>\r\n      <use x=\"271.919922\" xlink:href=\"#DejaVuSans-97\"/>\r\n      <use x=\"333.199219\" xlink:href=\"#DejaVuSans-98\"/>\r\n      <use x=\"396.675781\" xlink:href=\"#DejaVuSans-101\"/>\r\n      <use x=\"458.199219\" xlink:href=\"#DejaVuSans-108\"/>\r\n     </g>\r\n    </g>\r\n   </g>\r\n   <g id=\"patch_3\">\r\n    <path d=\"M 48.96875 387.709426 \r\nL 48.96875 22.318125 \r\n\" style=\"fill:none;stroke:#000000;stroke-linecap:square;stroke-linejoin:miter;stroke-width:0.8;\"/>\r\n   </g>\r\n   <g id=\"patch_4\">\r\n    <path d=\"M 414.360051 387.709426 \r\nL 414.360051 22.318125 \r\n\" style=\"fill:none;stroke:#000000;stroke-linecap:square;stroke-linejoin:miter;stroke-width:0.8;\"/>\r\n   </g>\r\n   <g id=\"patch_5\">\r\n    <path d=\"M 48.96875 387.709426 \r\nL 414.360051 387.709426 \r\n\" style=\"fill:none;stroke:#000000;stroke-linecap:square;stroke-linejoin:miter;stroke-width:0.8;\"/>\r\n   </g>\r\n   <g id=\"patch_6\">\r\n    <path d=\"M 48.96875 22.318125 \r\nL 414.360051 22.318125 \r\n\" style=\"fill:none;stroke:#000000;stroke-linecap:square;stroke-linejoin:miter;stroke-width:0.8;\"/>\r\n   </g>\r\n   <g id=\"text_25\">\r\n    <!-- 14 -->\r\n    <g transform=\"translate(59.214946 38.926821)scale(0.1 -0.1)\">\r\n     <use xlink:href=\"#DejaVuSans-49\"/>\r\n     <use x=\"63.623047\" xlink:href=\"#DejaVuSans-52\"/>\r\n    </g>\r\n   </g>\r\n   <g id=\"text_26\">\r\n    <!-- 0 -->\r\n    <g transform=\"translate(95.613587 38.926821)scale(0.1 -0.1)\">\r\n     <use xlink:href=\"#DejaVuSans-48\"/>\r\n    </g>\r\n   </g>\r\n   <g id=\"text_27\">\r\n    <!-- 0 -->\r\n    <g transform=\"translate(128.830978 38.926821)scale(0.1 -0.1)\">\r\n     <use xlink:href=\"#DejaVuSans-48\"/>\r\n    </g>\r\n   </g>\r\n   <g id=\"text_28\">\r\n    <!-- 0 -->\r\n    <g transform=\"translate(162.048369 38.926821)scale(0.1 -0.1)\">\r\n     <use xlink:href=\"#DejaVuSans-48\"/>\r\n    </g>\r\n   </g>\r\n   <g id=\"text_29\">\r\n    <!-- 0 -->\r\n    <g transform=\"translate(195.26576 38.926821)scale(0.1 -0.1)\">\r\n     <use xlink:href=\"#DejaVuSans-48\"/>\r\n    </g>\r\n   </g>\r\n   <g id=\"text_30\">\r\n    <!-- 0 -->\r\n    <g transform=\"translate(228.483151 38.926821)scale(0.1 -0.1)\">\r\n     <use xlink:href=\"#DejaVuSans-48\"/>\r\n    </g>\r\n   </g>\r\n   <g id=\"text_31\">\r\n    <!-- 0 -->\r\n    <g transform=\"translate(261.700542 38.926821)scale(0.1 -0.1)\">\r\n     <use xlink:href=\"#DejaVuSans-48\"/>\r\n    </g>\r\n   </g>\r\n   <g id=\"text_32\">\r\n    <!-- 0 -->\r\n    <g transform=\"translate(294.917933 38.926821)scale(0.1 -0.1)\">\r\n     <use xlink:href=\"#DejaVuSans-48\"/>\r\n    </g>\r\n   </g>\r\n   <g id=\"text_33\">\r\n    <!-- 0 -->\r\n    <g transform=\"translate(328.135324 38.926821)scale(0.1 -0.1)\">\r\n     <use xlink:href=\"#DejaVuSans-48\"/>\r\n    </g>\r\n   </g>\r\n   <g id=\"text_34\">\r\n    <!-- 0 -->\r\n    <g transform=\"translate(361.352715 38.926821)scale(0.1 -0.1)\">\r\n     <use xlink:href=\"#DejaVuSans-48\"/>\r\n    </g>\r\n   </g>\r\n   <g id=\"text_35\">\r\n    <!-- 0 -->\r\n    <g transform=\"translate(394.570106 38.926821)scale(0.1 -0.1)\">\r\n     <use xlink:href=\"#DejaVuSans-48\"/>\r\n    </g>\r\n   </g>\r\n   <g id=\"text_36\">\r\n    <!-- 1 -->\r\n    <g transform=\"translate(62.396196 72.144212)scale(0.1 -0.1)\">\r\n     <use xlink:href=\"#DejaVuSans-49\"/>\r\n    </g>\r\n   </g>\r\n   <g id=\"text_37\">\r\n    <!-- 9 -->\r\n    <g transform=\"translate(95.613587 72.144212)scale(0.1 -0.1)\">\r\n     <use xlink:href=\"#DejaVuSans-57\"/>\r\n    </g>\r\n   </g>\r\n   <g id=\"text_38\">\r\n    <!-- 0 -->\r\n    <g transform=\"translate(128.830978 72.144212)scale(0.1 -0.1)\">\r\n     <use xlink:href=\"#DejaVuSans-48\"/>\r\n    </g>\r\n   </g>\r\n   <g id=\"text_39\">\r\n    <!-- 0 -->\r\n    <g transform=\"translate(162.048369 72.144212)scale(0.1 -0.1)\">\r\n     <use xlink:href=\"#DejaVuSans-48\"/>\r\n    </g>\r\n   </g>\r\n   <g id=\"text_40\">\r\n    <!-- 0 -->\r\n    <g transform=\"translate(195.26576 72.144212)scale(0.1 -0.1)\">\r\n     <use xlink:href=\"#DejaVuSans-48\"/>\r\n    </g>\r\n   </g>\r\n   <g id=\"text_41\">\r\n    <!-- 0 -->\r\n    <g transform=\"translate(228.483151 72.144212)scale(0.1 -0.1)\">\r\n     <use xlink:href=\"#DejaVuSans-48\"/>\r\n    </g>\r\n   </g>\r\n   <g id=\"text_42\">\r\n    <!-- 0 -->\r\n    <g transform=\"translate(261.700542 72.144212)scale(0.1 -0.1)\">\r\n     <use xlink:href=\"#DejaVuSans-48\"/>\r\n    </g>\r\n   </g>\r\n   <g id=\"text_43\">\r\n    <!-- 0 -->\r\n    <g transform=\"translate(294.917933 72.144212)scale(0.1 -0.1)\">\r\n     <use xlink:href=\"#DejaVuSans-48\"/>\r\n    </g>\r\n   </g>\r\n   <g id=\"text_44\">\r\n    <!-- 0 -->\r\n    <g transform=\"translate(328.135324 72.144212)scale(0.1 -0.1)\">\r\n     <use xlink:href=\"#DejaVuSans-48\"/>\r\n    </g>\r\n   </g>\r\n   <g id=\"text_45\">\r\n    <!-- 0 -->\r\n    <g transform=\"translate(361.352715 72.144212)scale(0.1 -0.1)\">\r\n     <use xlink:href=\"#DejaVuSans-48\"/>\r\n    </g>\r\n   </g>\r\n   <g id=\"text_46\">\r\n    <!-- 0 -->\r\n    <g transform=\"translate(394.570106 72.144212)scale(0.1 -0.1)\">\r\n     <use xlink:href=\"#DejaVuSans-48\"/>\r\n    </g>\r\n   </g>\r\n   <g id=\"text_47\">\r\n    <!-- 0 -->\r\n    <g transform=\"translate(62.396196 105.361603)scale(0.1 -0.1)\">\r\n     <use xlink:href=\"#DejaVuSans-48\"/>\r\n    </g>\r\n   </g>\r\n   <g id=\"text_48\">\r\n    <!-- 0 -->\r\n    <g transform=\"translate(95.613587 105.361603)scale(0.1 -0.1)\">\r\n     <use xlink:href=\"#DejaVuSans-48\"/>\r\n    </g>\r\n   </g>\r\n   <g id=\"text_49\">\r\n    <!-- 4 -->\r\n    <g transform=\"translate(128.830978 105.361603)scale(0.1 -0.1)\">\r\n     <use xlink:href=\"#DejaVuSans-52\"/>\r\n    </g>\r\n   </g>\r\n   <g id=\"text_50\">\r\n    <!-- 0 -->\r\n    <g transform=\"translate(162.048369 105.361603)scale(0.1 -0.1)\">\r\n     <use xlink:href=\"#DejaVuSans-48\"/>\r\n    </g>\r\n   </g>\r\n   <g id=\"text_51\">\r\n    <!-- 0 -->\r\n    <g transform=\"translate(195.26576 105.361603)scale(0.1 -0.1)\">\r\n     <use xlink:href=\"#DejaVuSans-48\"/>\r\n    </g>\r\n   </g>\r\n   <g id=\"text_52\">\r\n    <!-- 0 -->\r\n    <g transform=\"translate(228.483151 105.361603)scale(0.1 -0.1)\">\r\n     <use xlink:href=\"#DejaVuSans-48\"/>\r\n    </g>\r\n   </g>\r\n   <g id=\"text_53\">\r\n    <!-- 0 -->\r\n    <g transform=\"translate(261.700542 105.361603)scale(0.1 -0.1)\">\r\n     <use xlink:href=\"#DejaVuSans-48\"/>\r\n    </g>\r\n   </g>\r\n   <g id=\"text_54\">\r\n    <!-- 0 -->\r\n    <g transform=\"translate(294.917933 105.361603)scale(0.1 -0.1)\">\r\n     <use xlink:href=\"#DejaVuSans-48\"/>\r\n    </g>\r\n   </g>\r\n   <g id=\"text_55\">\r\n    <!-- 0 -->\r\n    <g transform=\"translate(328.135324 105.361603)scale(0.1 -0.1)\">\r\n     <use xlink:href=\"#DejaVuSans-48\"/>\r\n    </g>\r\n   </g>\r\n   <g id=\"text_56\">\r\n    <!-- 0 -->\r\n    <g transform=\"translate(361.352715 105.361603)scale(0.1 -0.1)\">\r\n     <use xlink:href=\"#DejaVuSans-48\"/>\r\n    </g>\r\n   </g>\r\n   <g id=\"text_57\">\r\n    <!-- 0 -->\r\n    <g transform=\"translate(394.570106 105.361603)scale(0.1 -0.1)\">\r\n     <use xlink:href=\"#DejaVuSans-48\"/>\r\n    </g>\r\n   </g>\r\n   <g id=\"text_58\">\r\n    <!-- 0 -->\r\n    <g transform=\"translate(62.396196 138.578994)scale(0.1 -0.1)\">\r\n     <use xlink:href=\"#DejaVuSans-48\"/>\r\n    </g>\r\n   </g>\r\n   <g id=\"text_59\">\r\n    <!-- 0 -->\r\n    <g transform=\"translate(95.613587 138.578994)scale(0.1 -0.1)\">\r\n     <use xlink:href=\"#DejaVuSans-48\"/>\r\n    </g>\r\n   </g>\r\n   <g id=\"text_60\">\r\n    <!-- 0 -->\r\n    <g transform=\"translate(128.830978 138.578994)scale(0.1 -0.1)\">\r\n     <use xlink:href=\"#DejaVuSans-48\"/>\r\n    </g>\r\n   </g>\r\n   <g id=\"text_61\">\r\n    <!-- 6 -->\r\n    <g transform=\"translate(162.048369 138.578994)scale(0.1 -0.1)\">\r\n     <use xlink:href=\"#DejaVuSans-54\"/>\r\n    </g>\r\n   </g>\r\n   <g id=\"text_62\">\r\n    <!-- 0 -->\r\n    <g transform=\"translate(195.26576 138.578994)scale(0.1 -0.1)\">\r\n     <use xlink:href=\"#DejaVuSans-48\"/>\r\n    </g>\r\n   </g>\r\n   <g id=\"text_63\">\r\n    <!-- 0 -->\r\n    <g transform=\"translate(228.483151 138.578994)scale(0.1 -0.1)\">\r\n     <use xlink:href=\"#DejaVuSans-48\"/>\r\n    </g>\r\n   </g>\r\n   <g id=\"text_64\">\r\n    <!-- 0 -->\r\n    <g transform=\"translate(261.700542 138.578994)scale(0.1 -0.1)\">\r\n     <use xlink:href=\"#DejaVuSans-48\"/>\r\n    </g>\r\n   </g>\r\n   <g id=\"text_65\">\r\n    <!-- 0 -->\r\n    <g transform=\"translate(294.917933 138.578994)scale(0.1 -0.1)\">\r\n     <use xlink:href=\"#DejaVuSans-48\"/>\r\n    </g>\r\n   </g>\r\n   <g id=\"text_66\">\r\n    <!-- 0 -->\r\n    <g transform=\"translate(328.135324 138.578994)scale(0.1 -0.1)\">\r\n     <use xlink:href=\"#DejaVuSans-48\"/>\r\n    </g>\r\n   </g>\r\n   <g id=\"text_67\">\r\n    <!-- 1 -->\r\n    <g transform=\"translate(361.352715 138.578994)scale(0.1 -0.1)\">\r\n     <use xlink:href=\"#DejaVuSans-49\"/>\r\n    </g>\r\n   </g>\r\n   <g id=\"text_68\">\r\n    <!-- 0 -->\r\n    <g transform=\"translate(394.570106 138.578994)scale(0.1 -0.1)\">\r\n     <use xlink:href=\"#DejaVuSans-48\"/>\r\n    </g>\r\n   </g>\r\n   <g id=\"text_69\">\r\n    <!-- 1 -->\r\n    <g transform=\"translate(62.396196 171.796385)scale(0.1 -0.1)\">\r\n     <use xlink:href=\"#DejaVuSans-49\"/>\r\n    </g>\r\n   </g>\r\n   <g id=\"text_70\">\r\n    <!-- 0 -->\r\n    <g transform=\"translate(95.613587 171.796385)scale(0.1 -0.1)\">\r\n     <use xlink:href=\"#DejaVuSans-48\"/>\r\n    </g>\r\n   </g>\r\n   <g id=\"text_71\">\r\n    <!-- 0 -->\r\n    <g transform=\"translate(128.830978 171.796385)scale(0.1 -0.1)\">\r\n     <use xlink:href=\"#DejaVuSans-48\"/>\r\n    </g>\r\n   </g>\r\n   <g id=\"text_72\">\r\n    <!-- 0 -->\r\n    <g transform=\"translate(162.048369 171.796385)scale(0.1 -0.1)\">\r\n     <use xlink:href=\"#DejaVuSans-48\"/>\r\n    </g>\r\n   </g>\r\n   <g id=\"text_73\">\r\n    <!-- 7 -->\r\n    <g transform=\"translate(195.26576 171.796385)scale(0.1 -0.1)\">\r\n     <use xlink:href=\"#DejaVuSans-55\"/>\r\n    </g>\r\n   </g>\r\n   <g id=\"text_74\">\r\n    <!-- 0 -->\r\n    <g transform=\"translate(228.483151 171.796385)scale(0.1 -0.1)\">\r\n     <use xlink:href=\"#DejaVuSans-48\"/>\r\n    </g>\r\n   </g>\r\n   <g id=\"text_75\">\r\n    <!-- 0 -->\r\n    <g transform=\"translate(261.700542 171.796385)scale(0.1 -0.1)\">\r\n     <use xlink:href=\"#DejaVuSans-48\"/>\r\n    </g>\r\n   </g>\r\n   <g id=\"text_76\">\r\n    <!-- 0 -->\r\n    <g transform=\"translate(294.917933 171.796385)scale(0.1 -0.1)\">\r\n     <use xlink:href=\"#DejaVuSans-48\"/>\r\n    </g>\r\n   </g>\r\n   <g id=\"text_77\">\r\n    <!-- 0 -->\r\n    <g transform=\"translate(328.135324 171.796385)scale(0.1 -0.1)\">\r\n     <use xlink:href=\"#DejaVuSans-48\"/>\r\n    </g>\r\n   </g>\r\n   <g id=\"text_78\">\r\n    <!-- 1 -->\r\n    <g transform=\"translate(361.352715 171.796385)scale(0.1 -0.1)\">\r\n     <use xlink:href=\"#DejaVuSans-49\"/>\r\n    </g>\r\n   </g>\r\n   <g id=\"text_79\">\r\n    <!-- 2 -->\r\n    <g transform=\"translate(394.570106 171.796385)scale(0.1 -0.1)\">\r\n     <use xlink:href=\"#DejaVuSans-50\"/>\r\n    </g>\r\n   </g>\r\n   <g id=\"text_80\">\r\n    <!-- 0 -->\r\n    <g transform=\"translate(62.396196 205.013776)scale(0.1 -0.1)\">\r\n     <use xlink:href=\"#DejaVuSans-48\"/>\r\n    </g>\r\n   </g>\r\n   <g id=\"text_81\">\r\n    <!-- 0 -->\r\n    <g transform=\"translate(95.613587 205.013776)scale(0.1 -0.1)\">\r\n     <use xlink:href=\"#DejaVuSans-48\"/>\r\n    </g>\r\n   </g>\r\n   <g id=\"text_82\">\r\n    <!-- 0 -->\r\n    <g transform=\"translate(128.830978 205.013776)scale(0.1 -0.1)\">\r\n     <use xlink:href=\"#DejaVuSans-48\"/>\r\n    </g>\r\n   </g>\r\n   <g id=\"text_83\">\r\n    <!-- 0 -->\r\n    <g transform=\"translate(162.048369 205.013776)scale(0.1 -0.1)\">\r\n     <use xlink:href=\"#DejaVuSans-48\"/>\r\n    </g>\r\n   </g>\r\n   <g id=\"text_84\">\r\n    <!-- 0 -->\r\n    <g transform=\"translate(195.26576 205.013776)scale(0.1 -0.1)\">\r\n     <use xlink:href=\"#DejaVuSans-48\"/>\r\n    </g>\r\n   </g>\r\n   <g id=\"text_85\">\r\n    <!-- 6 -->\r\n    <g transform=\"translate(228.483151 205.013776)scale(0.1 -0.1)\">\r\n     <use xlink:href=\"#DejaVuSans-54\"/>\r\n    </g>\r\n   </g>\r\n   <g id=\"text_86\">\r\n    <!-- 0 -->\r\n    <g transform=\"translate(261.700542 205.013776)scale(0.1 -0.1)\">\r\n     <use xlink:href=\"#DejaVuSans-48\"/>\r\n    </g>\r\n   </g>\r\n   <g id=\"text_87\">\r\n    <!-- 0 -->\r\n    <g transform=\"translate(294.917933 205.013776)scale(0.1 -0.1)\">\r\n     <use xlink:href=\"#DejaVuSans-48\"/>\r\n    </g>\r\n   </g>\r\n   <g id=\"text_88\">\r\n    <!-- 0 -->\r\n    <g transform=\"translate(328.135324 205.013776)scale(0.1 -0.1)\">\r\n     <use xlink:href=\"#DejaVuSans-48\"/>\r\n    </g>\r\n   </g>\r\n   <g id=\"text_89\">\r\n    <!-- 0 -->\r\n    <g transform=\"translate(361.352715 205.013776)scale(0.1 -0.1)\">\r\n     <use xlink:href=\"#DejaVuSans-48\"/>\r\n    </g>\r\n   </g>\r\n   <g id=\"text_90\">\r\n    <!-- 0 -->\r\n    <g transform=\"translate(394.570106 205.013776)scale(0.1 -0.1)\">\r\n     <use xlink:href=\"#DejaVuSans-48\"/>\r\n    </g>\r\n   </g>\r\n   <g id=\"text_91\">\r\n    <!-- 0 -->\r\n    <g transform=\"translate(62.396196 238.231167)scale(0.1 -0.1)\">\r\n     <use xlink:href=\"#DejaVuSans-48\"/>\r\n    </g>\r\n   </g>\r\n   <g id=\"text_92\">\r\n    <!-- 0 -->\r\n    <g transform=\"translate(95.613587 238.231167)scale(0.1 -0.1)\">\r\n     <use xlink:href=\"#DejaVuSans-48\"/>\r\n    </g>\r\n   </g>\r\n   <g id=\"text_93\">\r\n    <!-- 0 -->\r\n    <g transform=\"translate(128.830978 238.231167)scale(0.1 -0.1)\">\r\n     <use xlink:href=\"#DejaVuSans-48\"/>\r\n    </g>\r\n   </g>\r\n   <g id=\"text_94\">\r\n    <!-- 0 -->\r\n    <g transform=\"translate(162.048369 238.231167)scale(0.1 -0.1)\">\r\n     <use xlink:href=\"#DejaVuSans-48\"/>\r\n    </g>\r\n   </g>\r\n   <g id=\"text_95\">\r\n    <!-- 0 -->\r\n    <g transform=\"translate(195.26576 238.231167)scale(0.1 -0.1)\">\r\n     <use xlink:href=\"#DejaVuSans-48\"/>\r\n    </g>\r\n   </g>\r\n   <g id=\"text_96\">\r\n    <!-- 2 -->\r\n    <g transform=\"translate(228.483151 238.231167)scale(0.1 -0.1)\">\r\n     <use xlink:href=\"#DejaVuSans-50\"/>\r\n    </g>\r\n   </g>\r\n   <g id=\"text_97\">\r\n    <!-- 6 -->\r\n    <g transform=\"translate(261.700542 238.231167)scale(0.1 -0.1)\">\r\n     <use xlink:href=\"#DejaVuSans-54\"/>\r\n    </g>\r\n   </g>\r\n   <g id=\"text_98\">\r\n    <!-- 0 -->\r\n    <g transform=\"translate(294.917933 238.231167)scale(0.1 -0.1)\">\r\n     <use xlink:href=\"#DejaVuSans-48\"/>\r\n    </g>\r\n   </g>\r\n   <g id=\"text_99\">\r\n    <!-- 0 -->\r\n    <g transform=\"translate(328.135324 238.231167)scale(0.1 -0.1)\">\r\n     <use xlink:href=\"#DejaVuSans-48\"/>\r\n    </g>\r\n   </g>\r\n   <g id=\"text_100\">\r\n    <!-- 0 -->\r\n    <g transform=\"translate(361.352715 238.231167)scale(0.1 -0.1)\">\r\n     <use xlink:href=\"#DejaVuSans-48\"/>\r\n    </g>\r\n   </g>\r\n   <g id=\"text_101\">\r\n    <!-- 0 -->\r\n    <g transform=\"translate(394.570106 238.231167)scale(0.1 -0.1)\">\r\n     <use xlink:href=\"#DejaVuSans-48\"/>\r\n    </g>\r\n   </g>\r\n   <g id=\"text_102\">\r\n    <!-- 0 -->\r\n    <g transform=\"translate(62.396196 271.448558)scale(0.1 -0.1)\">\r\n     <use xlink:href=\"#DejaVuSans-48\"/>\r\n    </g>\r\n   </g>\r\n   <g id=\"text_103\">\r\n    <!-- 0 -->\r\n    <g transform=\"translate(95.613587 271.448558)scale(0.1 -0.1)\">\r\n     <use xlink:href=\"#DejaVuSans-48\"/>\r\n    </g>\r\n   </g>\r\n   <g id=\"text_104\">\r\n    <!-- 0 -->\r\n    <g transform=\"translate(128.830978 271.448558)scale(0.1 -0.1)\">\r\n     <use xlink:href=\"#DejaVuSans-48\"/>\r\n    </g>\r\n   </g>\r\n   <g id=\"text_105\">\r\n    <!-- 0 -->\r\n    <g transform=\"translate(162.048369 271.448558)scale(0.1 -0.1)\">\r\n     <use xlink:href=\"#DejaVuSans-48\"/>\r\n    </g>\r\n   </g>\r\n   <g id=\"text_106\">\r\n    <!-- 0 -->\r\n    <g transform=\"translate(195.26576 271.448558)scale(0.1 -0.1)\">\r\n     <use xlink:href=\"#DejaVuSans-48\"/>\r\n    </g>\r\n   </g>\r\n   <g id=\"text_107\">\r\n    <!-- 0 -->\r\n    <g transform=\"translate(228.483151 271.448558)scale(0.1 -0.1)\">\r\n     <use xlink:href=\"#DejaVuSans-48\"/>\r\n    </g>\r\n   </g>\r\n   <g id=\"text_108\">\r\n    <!-- 0 -->\r\n    <g transform=\"translate(261.700542 271.448558)scale(0.1 -0.1)\">\r\n     <use xlink:href=\"#DejaVuSans-48\"/>\r\n    </g>\r\n   </g>\r\n   <g id=\"text_109\">\r\n    <!-- 13 -->\r\n    <g transform=\"translate(291.736683 271.448558)scale(0.1 -0.1)\">\r\n     <use xlink:href=\"#DejaVuSans-49\"/>\r\n     <use x=\"63.623047\" xlink:href=\"#DejaVuSans-51\"/>\r\n    </g>\r\n   </g>\r\n   <g id=\"text_110\">\r\n    <!-- 0 -->\r\n    <g transform=\"translate(328.135324 271.448558)scale(0.1 -0.1)\">\r\n     <use xlink:href=\"#DejaVuSans-48\"/>\r\n    </g>\r\n   </g>\r\n   <g id=\"text_111\">\r\n    <!-- 0 -->\r\n    <g transform=\"translate(361.352715 271.448558)scale(0.1 -0.1)\">\r\n     <use xlink:href=\"#DejaVuSans-48\"/>\r\n    </g>\r\n   </g>\r\n   <g id=\"text_112\">\r\n    <!-- 2 -->\r\n    <g transform=\"translate(394.570106 271.448558)scale(0.1 -0.1)\">\r\n     <use xlink:href=\"#DejaVuSans-50\"/>\r\n    </g>\r\n   </g>\r\n   <g id=\"text_113\">\r\n    <!-- 0 -->\r\n    <g transform=\"translate(62.396196 304.665949)scale(0.1 -0.1)\">\r\n     <use xlink:href=\"#DejaVuSans-48\"/>\r\n    </g>\r\n   </g>\r\n   <g id=\"text_114\">\r\n    <!-- 0 -->\r\n    <g transform=\"translate(95.613587 304.665949)scale(0.1 -0.1)\">\r\n     <use xlink:href=\"#DejaVuSans-48\"/>\r\n    </g>\r\n   </g>\r\n   <g id=\"text_115\">\r\n    <!-- 0 -->\r\n    <g transform=\"translate(128.830978 304.665949)scale(0.1 -0.1)\">\r\n     <use xlink:href=\"#DejaVuSans-48\"/>\r\n    </g>\r\n   </g>\r\n   <g id=\"text_116\">\r\n    <!-- 0 -->\r\n    <g transform=\"translate(162.048369 304.665949)scale(0.1 -0.1)\">\r\n     <use xlink:href=\"#DejaVuSans-48\"/>\r\n    </g>\r\n   </g>\r\n   <g id=\"text_117\">\r\n    <!-- 0 -->\r\n    <g transform=\"translate(195.26576 304.665949)scale(0.1 -0.1)\">\r\n     <use xlink:href=\"#DejaVuSans-48\"/>\r\n    </g>\r\n   </g>\r\n   <g id=\"text_118\">\r\n    <!-- 0 -->\r\n    <g transform=\"translate(228.483151 304.665949)scale(0.1 -0.1)\">\r\n     <use xlink:href=\"#DejaVuSans-48\"/>\r\n    </g>\r\n   </g>\r\n   <g id=\"text_119\">\r\n    <!-- 1 -->\r\n    <g transform=\"translate(261.700542 304.665949)scale(0.1 -0.1)\">\r\n     <use xlink:href=\"#DejaVuSans-49\"/>\r\n    </g>\r\n   </g>\r\n   <g id=\"text_120\">\r\n    <!-- 0 -->\r\n    <g transform=\"translate(294.917933 304.665949)scale(0.1 -0.1)\">\r\n     <use xlink:href=\"#DejaVuSans-48\"/>\r\n    </g>\r\n   </g>\r\n   <g id=\"text_121\">\r\n    <!-- 8 -->\r\n    <g transform=\"translate(328.135324 304.665949)scale(0.1 -0.1)\">\r\n     <use xlink:href=\"#DejaVuSans-56\"/>\r\n    </g>\r\n   </g>\r\n   <g id=\"text_122\">\r\n    <!-- 1 -->\r\n    <g transform=\"translate(361.352715 304.665949)scale(0.1 -0.1)\">\r\n     <use xlink:href=\"#DejaVuSans-49\"/>\r\n    </g>\r\n   </g>\r\n   <g id=\"text_123\">\r\n    <!-- 3 -->\r\n    <g transform=\"translate(394.570106 304.665949)scale(0.1 -0.1)\">\r\n     <use xlink:href=\"#DejaVuSans-51\"/>\r\n    </g>\r\n   </g>\r\n   <g id=\"text_124\">\r\n    <!-- 0 -->\r\n    <g transform=\"translate(62.396196 337.88334)scale(0.1 -0.1)\">\r\n     <use xlink:href=\"#DejaVuSans-48\"/>\r\n    </g>\r\n   </g>\r\n   <g id=\"text_125\">\r\n    <!-- 0 -->\r\n    <g transform=\"translate(95.613587 337.88334)scale(0.1 -0.1)\">\r\n     <use xlink:href=\"#DejaVuSans-48\"/>\r\n    </g>\r\n   </g>\r\n   <g id=\"text_126\">\r\n    <!-- 0 -->\r\n    <g transform=\"translate(128.830978 337.88334)scale(0.1 -0.1)\">\r\n     <use xlink:href=\"#DejaVuSans-48\"/>\r\n    </g>\r\n   </g>\r\n   <g id=\"text_127\">\r\n    <!-- 0 -->\r\n    <g transform=\"translate(162.048369 337.88334)scale(0.1 -0.1)\">\r\n     <use xlink:href=\"#DejaVuSans-48\"/>\r\n    </g>\r\n   </g>\r\n   <g id=\"text_128\">\r\n    <!-- 0 -->\r\n    <g transform=\"translate(195.26576 337.88334)scale(0.1 -0.1)\">\r\n     <use xlink:href=\"#DejaVuSans-48\"/>\r\n    </g>\r\n   </g>\r\n   <g id=\"text_129\">\r\n    <!-- 0 -->\r\n    <g transform=\"translate(228.483151 337.88334)scale(0.1 -0.1)\">\r\n     <use xlink:href=\"#DejaVuSans-48\"/>\r\n    </g>\r\n   </g>\r\n   <g id=\"text_130\">\r\n    <!-- 0 -->\r\n    <g transform=\"translate(261.700542 337.88334)scale(0.1 -0.1)\">\r\n     <use xlink:href=\"#DejaVuSans-48\"/>\r\n    </g>\r\n   </g>\r\n   <g id=\"text_131\">\r\n    <!-- 0 -->\r\n    <g transform=\"translate(294.917933 337.88334)scale(0.1 -0.1)\">\r\n     <use xlink:href=\"#DejaVuSans-48\"/>\r\n    </g>\r\n   </g>\r\n   <g id=\"text_132\">\r\n    <!-- 0 -->\r\n    <g transform=\"translate(328.135324 337.88334)scale(0.1 -0.1)\">\r\n     <use xlink:href=\"#DejaVuSans-48\"/>\r\n    </g>\r\n   </g>\r\n   <g id=\"text_133\">\r\n    <!-- 6 -->\r\n    <g transform=\"translate(361.352715 337.88334)scale(0.1 -0.1)\">\r\n     <use xlink:href=\"#DejaVuSans-54\"/>\r\n    </g>\r\n   </g>\r\n   <g id=\"text_134\">\r\n    <!-- 0 -->\r\n    <g transform=\"translate(394.570106 337.88334)scale(0.1 -0.1)\">\r\n     <use xlink:href=\"#DejaVuSans-48\"/>\r\n    </g>\r\n   </g>\r\n   <g id=\"text_135\">\r\n    <!-- 1 -->\r\n    <g transform=\"translate(62.396196 371.100731)scale(0.1 -0.1)\">\r\n     <use xlink:href=\"#DejaVuSans-49\"/>\r\n    </g>\r\n   </g>\r\n   <g id=\"text_136\">\r\n    <!-- 0 -->\r\n    <g transform=\"translate(95.613587 371.100731)scale(0.1 -0.1)\">\r\n     <use xlink:href=\"#DejaVuSans-48\"/>\r\n    </g>\r\n   </g>\r\n   <g id=\"text_137\">\r\n    <!-- 0 -->\r\n    <g transform=\"translate(128.830978 371.100731)scale(0.1 -0.1)\">\r\n     <use xlink:href=\"#DejaVuSans-48\"/>\r\n    </g>\r\n   </g>\r\n   <g id=\"text_138\">\r\n    <!-- 0 -->\r\n    <g transform=\"translate(162.048369 371.100731)scale(0.1 -0.1)\">\r\n     <use xlink:href=\"#DejaVuSans-48\"/>\r\n    </g>\r\n   </g>\r\n   <g id=\"text_139\">\r\n    <!-- 0 -->\r\n    <g transform=\"translate(195.26576 371.100731)scale(0.1 -0.1)\">\r\n     <use xlink:href=\"#DejaVuSans-48\"/>\r\n    </g>\r\n   </g>\r\n   <g id=\"text_140\">\r\n    <!-- 0 -->\r\n    <g transform=\"translate(228.483151 371.100731)scale(0.1 -0.1)\">\r\n     <use xlink:href=\"#DejaVuSans-48\"/>\r\n    </g>\r\n   </g>\r\n   <g id=\"text_141\">\r\n    <!-- 0 -->\r\n    <g transform=\"translate(261.700542 371.100731)scale(0.1 -0.1)\">\r\n     <use xlink:href=\"#DejaVuSans-48\"/>\r\n    </g>\r\n   </g>\r\n   <g id=\"text_142\">\r\n    <!-- 0 -->\r\n    <g transform=\"translate(294.917933 371.100731)scale(0.1 -0.1)\">\r\n     <use xlink:href=\"#DejaVuSans-48\"/>\r\n    </g>\r\n   </g>\r\n   <g id=\"text_143\">\r\n    <!-- 0 -->\r\n    <g transform=\"translate(328.135324 371.100731)scale(0.1 -0.1)\">\r\n     <use xlink:href=\"#DejaVuSans-48\"/>\r\n    </g>\r\n   </g>\r\n   <g id=\"text_144\">\r\n    <!-- 0 -->\r\n    <g transform=\"translate(361.352715 371.100731)scale(0.1 -0.1)\">\r\n     <use xlink:href=\"#DejaVuSans-48\"/>\r\n    </g>\r\n   </g>\r\n   <g id=\"text_145\">\r\n    <!-- 69 -->\r\n    <g style=\"fill:#ffffff;\" transform=\"translate(391.388856 371.100731)scale(0.1 -0.1)\">\r\n     <use xlink:href=\"#DejaVuSans-54\"/>\r\n     <use x=\"63.623047\" xlink:href=\"#DejaVuSans-57\"/>\r\n    </g>\r\n   </g>\r\n   <g id=\"text_146\">\r\n    <!-- Confusion Matrix -->\r\n    <defs>\r\n     <path d=\"M 64.40625 67.28125 \r\nL 64.40625 56.890625 \r\nQ 59.421875 61.53125 53.78125 63.8125 \r\nQ 48.140625 66.109375 41.796875 66.109375 \r\nQ 29.296875 66.109375 22.65625 58.46875 \r\nQ 16.015625 50.828125 16.015625 36.375 \r\nQ 16.015625 21.96875 22.65625 14.328125 \r\nQ 29.296875 6.6875 41.796875 6.6875 \r\nQ 48.140625 6.6875 53.78125 8.984375 \r\nQ 59.421875 11.28125 64.40625 15.921875 \r\nL 64.40625 5.609375 \r\nQ 59.234375 2.09375 53.4375 0.328125 \r\nQ 47.65625 -1.421875 41.21875 -1.421875 \r\nQ 24.65625 -1.421875 15.125 8.703125 \r\nQ 5.609375 18.84375 5.609375 36.375 \r\nQ 5.609375 53.953125 15.125 64.078125 \r\nQ 24.65625 74.21875 41.21875 74.21875 \r\nQ 47.75 74.21875 53.53125 72.484375 \r\nQ 59.328125 70.75 64.40625 67.28125 \r\nz\r\n\" id=\"DejaVuSans-67\"/>\r\n     <path d=\"M 30.609375 48.390625 \r\nQ 23.390625 48.390625 19.1875 42.75 \r\nQ 14.984375 37.109375 14.984375 27.296875 \r\nQ 14.984375 17.484375 19.15625 11.84375 \r\nQ 23.34375 6.203125 30.609375 6.203125 \r\nQ 37.796875 6.203125 41.984375 11.859375 \r\nQ 46.1875 17.53125 46.1875 27.296875 \r\nQ 46.1875 37.015625 41.984375 42.703125 \r\nQ 37.796875 48.390625 30.609375 48.390625 \r\nz\r\nM 30.609375 56 \r\nQ 42.328125 56 49.015625 48.375 \r\nQ 55.71875 40.765625 55.71875 27.296875 \r\nQ 55.71875 13.875 49.015625 6.21875 \r\nQ 42.328125 -1.421875 30.609375 -1.421875 \r\nQ 18.84375 -1.421875 12.171875 6.21875 \r\nQ 5.515625 13.875 5.515625 27.296875 \r\nQ 5.515625 40.765625 12.171875 48.375 \r\nQ 18.84375 56 30.609375 56 \r\nz\r\n\" id=\"DejaVuSans-111\"/>\r\n     <path d=\"M 54.890625 33.015625 \r\nL 54.890625 0 \r\nL 45.90625 0 \r\nL 45.90625 32.71875 \r\nQ 45.90625 40.484375 42.875 44.328125 \r\nQ 39.84375 48.1875 33.796875 48.1875 \r\nQ 26.515625 48.1875 22.3125 43.546875 \r\nQ 18.109375 38.921875 18.109375 30.90625 \r\nL 18.109375 0 \r\nL 9.078125 0 \r\nL 9.078125 54.6875 \r\nL 18.109375 54.6875 \r\nL 18.109375 46.1875 \r\nQ 21.34375 51.125 25.703125 53.5625 \r\nQ 30.078125 56 35.796875 56 \r\nQ 45.21875 56 50.046875 50.171875 \r\nQ 54.890625 44.34375 54.890625 33.015625 \r\nz\r\n\" id=\"DejaVuSans-110\"/>\r\n     <path d=\"M 37.109375 75.984375 \r\nL 37.109375 68.5 \r\nL 28.515625 68.5 \r\nQ 23.6875 68.5 21.796875 66.546875 \r\nQ 19.921875 64.59375 19.921875 59.515625 \r\nL 19.921875 54.6875 \r\nL 34.71875 54.6875 \r\nL 34.71875 47.703125 \r\nL 19.921875 47.703125 \r\nL 19.921875 0 \r\nL 10.890625 0 \r\nL 10.890625 47.703125 \r\nL 2.296875 47.703125 \r\nL 2.296875 54.6875 \r\nL 10.890625 54.6875 \r\nL 10.890625 58.5 \r\nQ 10.890625 67.625 15.140625 71.796875 \r\nQ 19.390625 75.984375 28.609375 75.984375 \r\nz\r\n\" id=\"DejaVuSans-102\"/>\r\n     <path d=\"M 9.8125 72.90625 \r\nL 24.515625 72.90625 \r\nL 43.109375 23.296875 \r\nL 61.8125 72.90625 \r\nL 76.515625 72.90625 \r\nL 76.515625 0 \r\nL 66.890625 0 \r\nL 66.890625 64.015625 \r\nL 48.09375 14.015625 \r\nL 38.1875 14.015625 \r\nL 19.390625 64.015625 \r\nL 19.390625 0 \r\nL 9.8125 0 \r\nz\r\n\" id=\"DejaVuSans-77\"/>\r\n     <path d=\"M 54.890625 54.6875 \r\nL 35.109375 28.078125 \r\nL 55.90625 0 \r\nL 45.3125 0 \r\nL 29.390625 21.484375 \r\nL 13.484375 0 \r\nL 2.875 0 \r\nL 24.125 28.609375 \r\nL 4.6875 54.6875 \r\nL 15.28125 54.6875 \r\nL 29.78125 35.203125 \r\nL 44.28125 54.6875 \r\nz\r\n\" id=\"DejaVuSans-120\"/>\r\n    </defs>\r\n    <g transform=\"translate(181.022526 16.318125)scale(0.12 -0.12)\">\r\n     <use xlink:href=\"#DejaVuSans-67\"/>\r\n     <use x=\"69.824219\" xlink:href=\"#DejaVuSans-111\"/>\r\n     <use x=\"131.005859\" xlink:href=\"#DejaVuSans-110\"/>\r\n     <use x=\"194.384766\" xlink:href=\"#DejaVuSans-102\"/>\r\n     <use x=\"229.589844\" xlink:href=\"#DejaVuSans-117\"/>\r\n     <use x=\"292.96875\" xlink:href=\"#DejaVuSans-115\"/>\r\n     <use x=\"345.068359\" xlink:href=\"#DejaVuSans-105\"/>\r\n     <use x=\"372.851562\" xlink:href=\"#DejaVuSans-111\"/>\r\n     <use x=\"434.033203\" xlink:href=\"#DejaVuSans-110\"/>\r\n     <use x=\"497.412109\" xlink:href=\"#DejaVuSans-32\"/>\r\n     <use x=\"529.199219\" xlink:href=\"#DejaVuSans-77\"/>\r\n     <use x=\"615.478516\" xlink:href=\"#DejaVuSans-97\"/>\r\n     <use x=\"676.757812\" xlink:href=\"#DejaVuSans-116\"/>\r\n     <use x=\"715.966797\" xlink:href=\"#DejaVuSans-114\"/>\r\n     <use x=\"757.080078\" xlink:href=\"#DejaVuSans-105\"/>\r\n     <use x=\"784.863281\" xlink:href=\"#DejaVuSans-120\"/>\r\n    </g>\r\n   </g>\r\n  </g>\r\n  <g id=\"axes_2\">\r\n   <g id=\"patch_7\">\r\n    <path clip-path=\"url(#pd12dcd5eb2)\" d=\"M 442.080051 387.709426 \r\nL 442.080051 386.282117 \r\nL 442.080051 23.745435 \r\nL 442.080051 22.318125 \r\nL 460.349617 22.318125 \r\nL 460.349617 23.745435 \r\nL 460.349617 386.282117 \r\nL 460.349617 387.709426 \r\nz\r\n\" style=\"fill:#ffffff;stroke:#ffffff;stroke-linejoin:miter;stroke-width:0.01;\"/>\r\n   </g>\r\n   <image height=\"365\" id=\"imagefd858ccd01\" transform=\"scale(1 -1)translate(0 -365)\" width=\"18\" x=\"442\" xlink:href=\"data:image/png;base64,\r\niVBORw0KGgoAAAANSUhEUgAAABIAAAFtCAYAAAAKzTr3AAAABHNCSVQICAgIfAhkiAAAAbRJREFUeJztm0FqxEAQAyfB//9uDgF7nyAfiqUQ0gOE1erW9Bj75+//eQ6Ai6E553oOw/SLsJxzLuiBzgXxcMXmakS5hhWblEYRCaVBrumkgTXqDTZQGgNlZreOCBdsxsyea5GIGpGzYEtQSrO5tj07Ynv2GyKhNJlrC7aM4mArdm3BllEcbMWuLdgyioOt2LUFW4Yw2G7INqG04um/e6XNtUzU/GaUqtGts7+4s3WuGTsbI9Id2TdF5JOmcw0rNjn9G9pEVL1nF3c2RCS03yYNW4+NNSre2HSuYQ1ZXCMus3XSdLdsozRb+BfXqDjYhDfI5hpxnV07tL7jSHc7EtpffBxxL317pXGZjdA4p7832Hwnrc414/RTRMvsCKG04j1bN/3CL6LmWiba9EcIpRW7to3te0TF9hdL6+5shGfSXsAnbdOfUWx/sbTrhjb2dXbGpL0iql1Gud/OdNKKXcOkzf7vEW1oM3yuCWs0+79IJPxV2FajScvwDa2wRsXSdPYLXTscEfNtHWn/pGUinzTmibprNGmZaNIyke1c46Tp3meDrq2zM1Gx/ZMWUCxt05+BSfsABwAblmiQd44AAAAASUVORK5CYII=\" y=\"-22\"/>\r\n   <g id=\"matplotlib.axis_3\"/>\r\n   <g id=\"matplotlib.axis_4\">\r\n    <g id=\"ytick_12\">\r\n     <g id=\"line2d_23\">\r\n      <defs>\r\n       <path d=\"M 0 0 \r\nL 3.5 0 \r\n\" id=\"md77689dfcc\" style=\"stroke:#000000;stroke-width:0.8;\"/>\r\n      </defs>\r\n      <g>\r\n       <use style=\"stroke:#000000;stroke-width:0.8;\" x=\"460.349617\" xlink:href=\"#md77689dfcc\" y=\"387.709426\"/>\r\n      </g>\r\n     </g>\r\n     <g id=\"text_147\">\r\n      <!-- 0 -->\r\n      <g transform=\"translate(467.349617 391.508645)scale(0.1 -0.1)\">\r\n       <use xlink:href=\"#DejaVuSans-48\"/>\r\n      </g>\r\n     </g>\r\n    </g>\r\n    <g id=\"ytick_13\">\r\n     <g id=\"line2d_24\">\r\n      <g>\r\n       <use style=\"stroke:#000000;stroke-width:0.8;\" x=\"460.349617\" xlink:href=\"#md77689dfcc\" y=\"334.754165\"/>\r\n      </g>\r\n     </g>\r\n     <g id=\"text_148\">\r\n      <!-- 10 -->\r\n      <g transform=\"translate(467.349617 338.553384)scale(0.1 -0.1)\">\r\n       <use xlink:href=\"#DejaVuSans-49\"/>\r\n       <use x=\"63.623047\" xlink:href=\"#DejaVuSans-48\"/>\r\n      </g>\r\n     </g>\r\n    </g>\r\n    <g id=\"ytick_14\">\r\n     <g id=\"line2d_25\">\r\n      <g>\r\n       <use style=\"stroke:#000000;stroke-width:0.8;\" x=\"460.349617\" xlink:href=\"#md77689dfcc\" y=\"281.798904\"/>\r\n      </g>\r\n     </g>\r\n     <g id=\"text_149\">\r\n      <!-- 20 -->\r\n      <g transform=\"translate(467.349617 285.598123)scale(0.1 -0.1)\">\r\n       <use xlink:href=\"#DejaVuSans-50\"/>\r\n       <use x=\"63.623047\" xlink:href=\"#DejaVuSans-48\"/>\r\n      </g>\r\n     </g>\r\n    </g>\r\n    <g id=\"ytick_15\">\r\n     <g id=\"line2d_26\">\r\n      <g>\r\n       <use style=\"stroke:#000000;stroke-width:0.8;\" x=\"460.349617\" xlink:href=\"#md77689dfcc\" y=\"228.843643\"/>\r\n      </g>\r\n     </g>\r\n     <g id=\"text_150\">\r\n      <!-- 30 -->\r\n      <g transform=\"translate(467.349617 232.642862)scale(0.1 -0.1)\">\r\n       <use xlink:href=\"#DejaVuSans-51\"/>\r\n       <use x=\"63.623047\" xlink:href=\"#DejaVuSans-48\"/>\r\n      </g>\r\n     </g>\r\n    </g>\r\n    <g id=\"ytick_16\">\r\n     <g id=\"line2d_27\">\r\n      <g>\r\n       <use style=\"stroke:#000000;stroke-width:0.8;\" x=\"460.349617\" xlink:href=\"#md77689dfcc\" y=\"175.888382\"/>\r\n      </g>\r\n     </g>\r\n     <g id=\"text_151\">\r\n      <!-- 40 -->\r\n      <g transform=\"translate(467.349617 179.687601)scale(0.1 -0.1)\">\r\n       <use xlink:href=\"#DejaVuSans-52\"/>\r\n       <use x=\"63.623047\" xlink:href=\"#DejaVuSans-48\"/>\r\n      </g>\r\n     </g>\r\n    </g>\r\n    <g id=\"ytick_17\">\r\n     <g id=\"line2d_28\">\r\n      <g>\r\n       <use style=\"stroke:#000000;stroke-width:0.8;\" x=\"460.349617\" xlink:href=\"#md77689dfcc\" y=\"122.933121\"/>\r\n      </g>\r\n     </g>\r\n     <g id=\"text_152\">\r\n      <!-- 50 -->\r\n      <g transform=\"translate(467.349617 126.73234)scale(0.1 -0.1)\">\r\n       <use xlink:href=\"#DejaVuSans-53\"/>\r\n       <use x=\"63.623047\" xlink:href=\"#DejaVuSans-48\"/>\r\n      </g>\r\n     </g>\r\n    </g>\r\n    <g id=\"ytick_18\">\r\n     <g id=\"line2d_29\">\r\n      <g>\r\n       <use style=\"stroke:#000000;stroke-width:0.8;\" x=\"460.349617\" xlink:href=\"#md77689dfcc\" y=\"69.97786\"/>\r\n      </g>\r\n     </g>\r\n     <g id=\"text_153\">\r\n      <!-- 60 -->\r\n      <g transform=\"translate(467.349617 73.777079)scale(0.1 -0.1)\">\r\n       <use xlink:href=\"#DejaVuSans-54\"/>\r\n       <use x=\"63.623047\" xlink:href=\"#DejaVuSans-48\"/>\r\n      </g>\r\n     </g>\r\n    </g>\r\n   </g>\r\n   <g id=\"patch_8\">\r\n    <path d=\"M 442.080051 387.709426 \r\nL 442.080051 386.282117 \r\nL 442.080051 23.745435 \r\nL 442.080051 22.318125 \r\nL 460.349617 22.318125 \r\nL 460.349617 23.745435 \r\nL 460.349617 386.282117 \r\nL 460.349617 387.709426 \r\nz\r\n\" style=\"fill:none;stroke:#000000;stroke-linejoin:miter;stroke-width:0.8;\"/>\r\n   </g>\r\n  </g>\r\n </g>\r\n <defs>\r\n  <clipPath id=\"p50b0da3949\">\r\n   <rect height=\"365.391301\" width=\"365.391301\" x=\"48.96875\" y=\"22.318125\"/>\r\n  </clipPath>\r\n  <clipPath id=\"pd12dcd5eb2\">\r\n   <rect height=\"365.391301\" width=\"18.269565\" x=\"442.080051\" y=\"22.318125\"/>\r\n  </clipPath>\r\n </defs>\r\n</svg>\r\n",
      "image/png": "[encoded data removed]"
     },
     "metadata": {
      "needs_background": "light"
     }
    }
   ],
   "source": [
    "if (Testing_Percentage > 0):\n",
    "    #class_names = [\"0\", \"1\", \"2\", \"3\", \"4\", \"5\", \"6\", \"7\", \"8\", \"9\", \"NaN\"]\n",
    "    #test_iterator = datagen.flow(X_test, y_test, batch_size=Batch_Size)\n",
    "    #y_pred = model.predict_generator(test_iterator)\n",
    "    y_pred = model.predict(X_test)\n",
    "    print('Accuracy: ' + str(accuracy_score(np.argmax(y_test, axis=1), np.argmax(y_pred, axis=1))))\n",
    "    print(classification_report(np.argmax(y_test, axis=1), np.argmax(y_pred, axis=1)))\n",
    "    plot_confusion_matrix(cm           = confusion_matrix(np.argmax(y_test, axis=1), np.argmax(y_pred, axis=1)), \n",
    "                      normalize    = False,\n",
    "                      target_names = subdir,\n",
    "                      title        = \"Confusion Matrix\")\n",
    "    "
   ]
  },
  {
   "cell_type": "markdown",
   "metadata": {},
   "source": [
    "### Learing result\n",
    " \n",
    "* Visualization of the training and validation results"
   ]
  },
  {
   "cell_type": "code",
   "execution_count": 5,
   "metadata": {},
   "outputs": [
    {
     "data": {
      "image/png": "[encoded data removed]",
      "text/plain": [
       "<Figure size 432x288 with 1 Axes>"
      ]
     },
     "metadata": {
      "needs_background": "light"
     },
     "output_type": "display_data"
    }
   ],
   "source": [
    "loss_ges = np.append(loss_ges, history.history['loss'])\n",
    "plt.semilogy(history.history['loss'])\n",
    "\n",
    "if (Training_Percentage > 0):\n",
    "    val_loss_ges = np.append(val_loss_ges, history.history['val_loss'])\n",
    "    plt.semilogy(history.history['val_loss'])\n",
    "\n",
    "plt.title('model loss')\n",
    "plt.ylabel('loss')\n",
    "plt.xlabel('epoch')\n",
    "plt.legend(['train','eval'], loc='upper left')\n",
    "plt.show()"
   ]
  },
  {
   "cell_type": "markdown",
   "metadata": {},
   "source": [
    "### Check the model by hand\n",
    "\n",
    "* The following code uses the trained model to check the deviation for each picture.\n",
    "* x-axis walks through each pixel, y-axis shows the result"
   ]
  },
  {
   "cell_type": "code",
   "execution_count": 6,
   "metadata": {},
   "outputs": [
    {
     "name": "stdout",
     "output_type": "stream",
     "text": [
      "WARNING:tensorflow:From <ipython-input-6-8aba67fc08aa>:15: Sequential.predict_classes (from tensorflow.python.keras.engine.sequential) is deprecated and will be removed after 2021-01-01.\n",
      "Instructions for updating:\n",
      "Please use instead:* `np.argmax(model.predict(x), axis=-1)`,   if your model does multi-class classification   (e.g. if it uses a `softmax` last-layer activation).* `(model.predict(x) > 0.5).astype(\"int32\")`,   if your model does binary classification   (e.g. if it uses a `sigmoid` last-layer activation).\n"
     ]
    },
    {
     "data": {
      "image/png": "[encoded data removed]",
      "text/plain": [
       "<Figure size 432x288 with 1 Axes>"
      ]
     },
     "metadata": {
      "needs_background": "light"
     },
     "output_type": "display_data"
    }
   ],
   "source": [
    "Input_dir='ziffer_sortiert_resize'\n",
    "subdir = [\"NaN\", \"0\", \"1\", \"2\", \"3\", \"4\", \"5\", \"6\", \"7\", \"8\", \"9\"]\n",
    "res = []\n",
    "\n",
    "for aktsubdir in subdir:\n",
    "    files = glob.glob(Input_dir + '/' + aktsubdir + '\\*.jpg')\n",
    "    if aktsubdir == \"NaN\":\n",
    "        zw1 = -1\n",
    "    else:\n",
    "        zw1 = int(aktsubdir)\n",
    "    for aktfile in files:\n",
    "        test_image = Image.open(aktfile)\n",
    "        test_image = np.array(test_image, dtype=\"float32\")\n",
    "        img = np.reshape(test_image,[1,32,20,3])\n",
    "        classes = model.predict_classes(img)\n",
    "        classes = classes[0]\n",
    "        if classes == 10: \n",
    "            classes = -1\n",
    "        zw2 = classes\n",
    "        zw3 = zw2 - zw1\n",
    "        res.append(np.array([zw1, zw2, zw3]))\n",
    "\n",
    "res = np.asarray(res)\n",
    "\n",
    "\n",
    "plt.plot(res[:,0])\n",
    "plt.plot(res[:,1])\n",
    "plt.title('Result')\n",
    "plt.ylabel('Digital Value')\n",
    "plt.xlabel('#Picture')\n",
    "plt.legend(['real','model'], loc='upper left')\n",
    "plt.show()"
   ]
  },
  {
   "cell_type": "markdown",
   "metadata": {},
   "source": [
    "### Save the model\n",
    "\n",
    "* Save the model to the file with the \"h5\" file format"
   ]
  },
  {
   "cell_type": "code",
   "execution_count": 7,
   "metadata": {},
   "outputs": [
    {
     "data": {
      "text/plain": [
       "218936"
      ]
     },
     "execution_count": 7,
     "metadata": {},
     "output_type": "execute_result"
    }
   ],
   "source": [
    "FileName = \"Train_CNN_Digital-Readout_Version_\" + Version\n",
    "# model.save(FileName + \".h5\")\n",
    "\n",
    "converter = tf.lite.TFLiteConverter.from_keras_model(model)\n",
    "tflite_model = converter.convert()\n",
    "open(FileName + \".tflite\", \"wb\").write(tflite_model)"
   ]
  },
  {
   "cell_type": "code",
   "execution_count": 8,
   "metadata": {},
   "outputs": [
    {
     "data": {
      "text/plain": [
       "218936"
      ]
     },
     "execution_count": 8,
     "metadata": {},
     "output_type": "execute_result"
    }
   ],
   "source": [
    "FileName = \"Train_CNN_Digital-Readout_Version_\" + Version\n",
    "# model.save(FileName + \".h5\")\n",
    "\n",
    "converter = tf.lite.TFLiteConverter.from_keras_model(model)\n",
    "tflite_model = converter.convert()\n",
    "open(FileName + \".tflite\", \"wb\").write(tflite_model)"
   ]
  },
  {
   "cell_type": "markdown",
   "metadata": {},
   "source": [
    "### Check each image for expected and deviation\n",
    "* setting the switch \"only_deviation = true\" will only print the images for which the classification and the CNN-result deviates\n",
    "\n",
    "The output contains the following information:\n",
    "\n",
    "| Filename      | Expected Category           | Predicted Category        |\n",
    "|------------- |:-----------------------------:|--------------|\n",
    "| ziffer_sortiert_resize_NaN/5\\Ziffer_4_0034.jpg | 4  | -1 |\n"
   ]
  },
  {
   "cell_type": "code",
   "execution_count": 9,
   "metadata": {
    "scrolled": true
   },
   "outputs": [
    {
     "name": "stdout",
     "output_type": "stream",
     "text": [
      "ziffer_sortiert_resize/7\\D6_2020-08-19_21-15-56.jpg 7 1\n"
     ]
    }
   ],
   "source": [
    "Input_dir='ziffer_sortiert_resize'\n",
    "only_deviation = True\n",
    "\n",
    "subdir = [\"0\", \"1\", \"2\", \"3\", \"4\", \"5\", \"6\", \"7\", \"8\", \"9\", \"NaN\"]\n",
    "\n",
    "for aktsubdir in subdir:\n",
    "    files = glob.glob(Input_dir + '/' + aktsubdir + '\\*.jpg')\n",
    "    expected_class = aktsubdir\n",
    "    for aktfile in files:\n",
    "        test_image = Image.open(aktfile)\n",
    "        test_image = np.array(test_image, dtype=\"float32\")\n",
    "        img = np.reshape(test_image,[1,32,20,3])\n",
    "        classes = model.predict_classes(img)\n",
    "        classes = classes[0]\n",
    "        if classes == 10: \n",
    "            classes = \"NaN\"\n",
    "        if only_deviation == True:\n",
    "            if str(classes) != str(expected_class):\n",
    "                print(aktfile + \" \" + aktsubdir +  \" \" + str(classes))\n",
    "        else:\n",
    "            print(aktfile + \" \" + aktsubdir +  \" \" + str(classes))\n"
   ]
  },
  {
   "cell_type": "markdown",
   "metadata": {},
   "source": [
    "Checking the images shows, that this are border line images, which can be interpreted as a good digit or a faulty one."
   ]
  }
 ],
 "metadata": {
  "kernelspec": {
   "name": "python3",
   "display_name": "Python 3.6.10 64-bit",
   "metadata": {
    "interpreter": {
     "hash": "4a23a3a52b437d939fa535be6a1f1ac987da1b4709c7100045a37fc353e88980"
    }
   }
  },
  "language_info": {
   "codemirror_mode": {
    "name": "ipython",
    "version": 3
   },
   "file_extension": ".py",
   "mimetype": "text/x-python",
   "name": "python",
   "nbconvert_exporter": "python",
   "pygments_lexer": "ipython3",
   "version": "3.6.10-final"
  },
  "pycharm": {
   "stem_cell": {
    "cell_type": "raw",
    "source": [],
    "metadata": {
     "collapsed": false
    }
   }
  }
 },
 "nbformat": 4,
 "nbformat_minor": 2
}